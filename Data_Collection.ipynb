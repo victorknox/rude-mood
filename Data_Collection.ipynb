{
  "nbformat": 4,
  "nbformat_minor": 0,
  "metadata": {
    "colab": {
      "name": "Data_Collection.ipynb",
      "provenance": [],
      "authorship_tag": "ABX9TyOwsmZuzFHFKf4x2ZoZBve3",
      "include_colab_link": true
    },
    "kernelspec": {
      "name": "python3",
      "display_name": "Python 3"
    },
    "language_info": {
      "name": "python"
    }
  },
  "cells": [
    {
      "cell_type": "markdown",
      "metadata": {
        "id": "view-in-github",
        "colab_type": "text"
      },
      "source": [
        "<a href=\"https://colab.research.google.com/github/victorknox/rude-mood/blob/main/Data_Collection.ipynb\" target=\"_parent\"><img src=\"https://colab.research.google.com/assets/colab-badge.svg\" alt=\"Open In Colab\"/></a>"
      ]
    },
    {
      "cell_type": "markdown",
      "metadata": {
        "id": "cM46FPE2kMwI"
      },
      "source": [
        "# Setup"
      ]
    },
    {
      "cell_type": "code",
      "metadata": {
        "id": "5YNoeDGI76GT"
      },
      "source": [
        "!pip install psaw\n",
        "!pip install praw\n",
        "!pip install asyncpraw"
      ],
      "execution_count": null,
      "outputs": []
    },
    {
      "cell_type": "code",
      "metadata": {
        "id": "J2870TS4aBsC"
      },
      "source": [
        "import pandas as pd\n",
        "pd.set_option('max_colwidth', 500)\n",
        "pd.set_option('max_columns', 50)"
      ],
      "execution_count": null,
      "outputs": []
    },
    {
      "cell_type": "code",
      "metadata": {
        "id": "X_N61VluI1u4"
      },
      "source": [
        "from psaw import PushshiftAPI\n",
        "\n",
        "api = PushshiftAPI()"
      ],
      "execution_count": null,
      "outputs": []
    },
    {
      "cell_type": "code",
      "metadata": {
        "id": "me8OgHZvJvM3"
      },
      "source": [
        "import praw\n",
        "reddit = praw.Reddit(client_id='zlMUUUA0MNikfTR-guoZPg', client_secret='vcgEzBynk1xZHyxaHdxDJ5v67M5_DQ', user_agent='scraper')"
      ],
      "execution_count": null,
      "outputs": []
    },
    {
      "cell_type": "markdown",
      "metadata": {
        "id": "vi930ULIkQNZ"
      },
      "source": [
        "# Collection of data"
      ]
    },
    {
      "cell_type": "code",
      "metadata": {
        "id": "qWwh_3iDJ3eV"
      },
      "source": [
        "def fetch_comments(url_list ):\n",
        "  comments = []\n",
        "  for x in url_list:\n",
        "    submission = reddit.submission(url = x)\n",
        "    submission.comments.replace_more(limit=0)\n",
        "    for comment in submission.comments.list():\n",
        "      comment_details = {\n",
        "        'title':submission.title,\n",
        "        'body':comment.body,\n",
        "        'votes':comment.score,\n",
        "        'subreddit name':submission.subreddit.display_name,\n",
        "        # 'time':comment.created_utc,\n",
        "        'author': comment.author,\n",
        "        }\n",
        "      comments.append(comment_details)\n",
        "  return comments"
      ],
      "execution_count": null,
      "outputs": []
    },
    {
      "cell_type": "markdown",
      "metadata": {
        "id": "Jchsc5y6i5uL"
      },
      "source": [
        "## fetching windows data"
      ]
    },
    {
      "cell_type": "code",
      "metadata": {
        "colab": {
          "base_uri": "https://localhost:8080/"
        },
        "id": "FwtKNsH4j0n8",
        "outputId": "0fa04563-8e7b-4f16-d435-9619a4f59b95"
      },
      "source": [
        "api_request_generator = api.search_submissions(subreddit='windows', q='help', score = \">10\")\n",
        "win_submissions = pd.DataFrame([submission.d_ for submission in api_request_generator])\n",
        "win_submissions.shape"
      ],
      "execution_count": null,
      "outputs": [
        {
          "output_type": "stream",
          "name": "stderr",
          "text": [
            "/usr/local/lib/python3.7/dist-packages/psaw/PushshiftAPI.py:252: UserWarning: Not all PushShift shards are active. Query results may be incomplete\n",
            "  warnings.warn(shards_down_message)\n"
          ]
        },
        {
          "output_type": "execute_result",
          "data": {
            "text/plain": [
              "(968, 99)"
            ]
          },
          "metadata": {},
          "execution_count": 132
        }
      ]
    },
    {
      "cell_type": "code",
      "metadata": {
        "colab": {
          "base_uri": "https://localhost:8080/"
        },
        "id": "epjHM9ggaPzD",
        "outputId": "1a226e1b-c3fd-4a24-9612-d9005f4a5f79"
      },
      "source": [
        "win_submissions.columns"
      ],
      "execution_count": null,
      "outputs": [
        {
          "output_type": "execute_result",
          "data": {
            "text/plain": [
              "Index(['all_awardings', 'allow_live_comments', 'author',\n",
              "       'author_flair_css_class', 'author_flair_richtext', 'author_flair_text',\n",
              "       'author_flair_type', 'author_fullname', 'author_patreon_flair',\n",
              "       'author_premium', 'awarders', 'can_mod_post', 'contest_mode',\n",
              "       'created_utc', 'domain', 'edited', 'full_link', 'gildings', 'id',\n",
              "       'is_created_from_ads_ui', 'is_crosspostable', 'is_meta',\n",
              "       'is_original_content', 'is_reddit_media_domain', 'is_robot_indexable',\n",
              "       'is_self', 'is_video', 'link_flair_background_color',\n",
              "       'link_flair_css_class', 'link_flair_richtext', 'link_flair_template_id',\n",
              "       'link_flair_text', 'link_flair_text_color', 'link_flair_type', 'locked',\n",
              "       'media_metadata', 'media_only', 'no_follow', 'num_comments',\n",
              "       'num_crossposts', 'over_18', 'parent_whitelist_status', 'permalink',\n",
              "       'pinned', 'post_hint', 'preview', 'pwls', 'retrieved_on', 'score',\n",
              "       'selftext', 'send_replies', 'spoiler', 'stickied', 'subreddit',\n",
              "       'subreddit_id', 'subreddit_subscribers', 'subreddit_type',\n",
              "       'suggested_sort', 'thumbnail', 'thumbnail_height', 'thumbnail_width',\n",
              "       'title', 'total_awards_received', 'treatment_tags', 'upvote_ratio',\n",
              "       'url', 'whitelist_status', 'wls', 'created', 'url_overridden_by_dest',\n",
              "       'media', 'media_embed', 'removed_by_category', 'secure_media',\n",
              "       'secure_media_embed', 'gallery_data', 'is_gallery', 'steward_reports',\n",
              "       'updated_utc', 'og_description', 'og_title', 'crosspost_parent',\n",
              "       'crosspost_parent_list', 'gilded', 'rte_mode', 'author_id',\n",
              "       'author_cakeday', 'author_flair_background_color',\n",
              "       'author_flair_text_color', 'brand_safe', 'previous_visits',\n",
              "       'distinguished', 'approved_at_utc', 'banned_at_utc', 'view_count',\n",
              "       'author_created_utc', 'banned_by', 'mod_reports', 'user_reports'],\n",
              "      dtype='object')"
            ]
          },
          "metadata": {},
          "execution_count": 133
        }
      ]
    },
    {
      "cell_type": "code",
      "metadata": {
        "colab": {
          "base_uri": "https://localhost:8080/",
          "height": 1000
        },
        "id": "LI0_BodnaeN0",
        "outputId": "10091546-e5e0-4fcd-f953-b36628aa9981"
      },
      "source": [
        "win_submissions[['title','selftext', 'num_comments', 'author','score','full_link','created_utc','subreddit']].sample(10)"
      ],
      "execution_count": null,
      "outputs": [
        {
          "output_type": "execute_result",
          "data": {
            "text/html": [
              "<div>\n",
              "<style scoped>\n",
              "    .dataframe tbody tr th:only-of-type {\n",
              "        vertical-align: middle;\n",
              "    }\n",
              "\n",
              "    .dataframe tbody tr th {\n",
              "        vertical-align: top;\n",
              "    }\n",
              "\n",
              "    .dataframe thead th {\n",
              "        text-align: right;\n",
              "    }\n",
              "</style>\n",
              "<table border=\"1\" class=\"dataframe\">\n",
              "  <thead>\n",
              "    <tr style=\"text-align: right;\">\n",
              "      <th></th>\n",
              "      <th>title</th>\n",
              "      <th>selftext</th>\n",
              "      <th>num_comments</th>\n",
              "      <th>author</th>\n",
              "      <th>score</th>\n",
              "      <th>full_link</th>\n",
              "      <th>created_utc</th>\n",
              "      <th>subreddit</th>\n",
              "    </tr>\n",
              "  </thead>\n",
              "  <tbody>\n",
              "    <tr>\n",
              "      <th>774</th>\n",
              "      <td>Tron v6.4.1 (2015-07-22) // RogueKiller (stalling, log size) fix; rkill whitelist fix; subtool updates</td>\n",
              "      <td>*[x-post /r/TronScript]*\\n\\n------------\\n\\n\\n##Background\\n\\nTron is a script that \"fights for the User\"; basically automates a bunch of scanning/disinfection/cleanup tools on a Windows system. I got tired of running these utilities manually and decided to just script the whole thing. I hope this helps other techs and admins.\\n\\n----------------------------------------\\n\\n##Stages of Tron:\\n\\n0. **Prep**: `rkill`, `ProcessKiller`, `TDSSKiller`, `Stinger`, `registry backup`, `WMI repair`, `s...</td>\n",
              "      <td>6</td>\n",
              "      <td>vocatus</td>\n",
              "      <td>23</td>\n",
              "      <td>https://www.reddit.com/r/windows/comments/3egaoz/tron_v641_20150722_roguekiller_stalling_log_size/</td>\n",
              "      <td>1437750543</td>\n",
              "      <td>windows</td>\n",
              "    </tr>\n",
              "    <tr>\n",
              "      <th>152</th>\n",
              "      <td>[Security] Someone tried to project on my computer?</td>\n",
              "      <td>So i'm freaking out a bit because my PC has some rather important stuff and the last thing i need is to have my security compromised. I just got a windows notification that \"Mitu wants to project to your computer\"... I clicked No but WTF?\\n\\nI am using windows 10 with Windows Defender on and Malwarebytes premium. I just scanned my computer again with both and got nothing.\\n\\nI mistakenly but publicly posted a screenshot with my IP a few hours ago and the only thing i can think of is someone ...</td>\n",
              "      <td>16</td>\n",
              "      <td>asdasdasdasdfff44</td>\n",
              "      <td>13</td>\n",
              "      <td>https://www.reddit.com/r/windows/comments/99hhhs/security_someone_tried_to_project_on_my_computer/</td>\n",
              "      <td>1534974421</td>\n",
              "      <td>windows</td>\n",
              "    </tr>\n",
              "    <tr>\n",
              "      <th>590</th>\n",
              "      <td>Friend commited suicide. family ask for help removing password from windows 10</td>\n",
              "      <td>hi, before starting i want to say that this is 100% legitimate.  My close friend committed suicide a week ago. his parents asked me if i could remove the password on his asus ROG gaming laptop for him. being that i've done this in the past with offline NT before, i said sure. well that was before windows 10. i tried using that and it seemed to work but still asks for a password, then i remember about windows 10 and having a hotmail account linked to it. (i use local) so its asking for the ho...</td>\n",
              "      <td>58</td>\n",
              "      <td>Valkyrie743</td>\n",
              "      <td>59</td>\n",
              "      <td>https://www.reddit.com/r/windows/comments/57933o/friend_commited_suicide_family_ask_for_help/</td>\n",
              "      <td>1476343417</td>\n",
              "      <td>windows</td>\n",
              "    </tr>\n",
              "    <tr>\n",
              "      <th>212</th>\n",
              "      <td>Literally locked out of my desktop. Please send help.</td>\n",
              "      <td></td>\n",
              "      <td>32</td>\n",
              "      <td>AlexSilva247</td>\n",
              "      <td>27</td>\n",
              "      <td>https://www.reddit.com/r/windows/comments/8expgw/literally_locked_out_of_my_desktop_please_send/</td>\n",
              "      <td>1524695184</td>\n",
              "      <td>windows</td>\n",
              "    </tr>\n",
              "    <tr>\n",
              "      <th>226</th>\n",
              "      <td>System Locale Issues</td>\n",
              "      <td>So A couple months I wanted to play a Japanese game so I had to change the System Locale.  I'm done with the game and so I switched the Locale back to English and now the Nvidia in my Control Panel under Appearance And Personalization is in some Japanese text and so is the Mcafee Security Scan Plus is now in Japanese too.  Please help</td>\n",
              "      <td>3</td>\n",
              "      <td>mfright04</td>\n",
              "      <td>17</td>\n",
              "      <td>https://www.reddit.com/r/windows/comments/8avh14/system_locale_issues/</td>\n",
              "      <td>1523244431</td>\n",
              "      <td>windows</td>\n",
              "    </tr>\n",
              "    <tr>\n",
              "      <th>293</th>\n",
              "      <td>Trying to launch Steam with elevated privileges on boot/login</td>\n",
              "      <td>But although I've followed several guides it doesn't seem to work. I'd appreciate any help from someone who has done this with a similar program.\\n\\nI login with a standard user but run programs with admin. This is why I would like this.\\n\\nAny help would be appreciated and if not, merry Christmas anywho.</td>\n",
              "      <td>15</td>\n",
              "      <td>ClandestineMovah</td>\n",
              "      <td>19</td>\n",
              "      <td>https://www.reddit.com/r/windows/comments/7m6suq/trying_to_launch_steam_with_elevated_privileges/</td>\n",
              "      <td>1514278882</td>\n",
              "      <td>windows</td>\n",
              "    </tr>\n",
              "    <tr>\n",
              "      <th>964</th>\n",
              "      <td>Should I finally make the switch from XP to Win7?</td>\n",
              "      <td>A little background on myself. First, I tried using the search but didn't find a lot of advice specific to my situation, aside from most people supporting Win7 enough that I almost didn't feel the need to make this topic and instead just upgrade, so I apologize if this is old hat around here.\\n\\nSo, I have been using Mac computers for the last 4 years for school and work, so combining the fact that I have zero free time to play PC games, and that the last OS I was familiar with was XP Home, ...</td>\n",
              "      <td>56</td>\n",
              "      <td>Verb_Rogue</td>\n",
              "      <td>17</td>\n",
              "      <td>https://www.reddit.com/r/windows/comments/idfa2/should_i_finally_make_the_switch_from_xp_to_win7/</td>\n",
              "      <td>1309455021</td>\n",
              "      <td>windows</td>\n",
              "    </tr>\n",
              "    <tr>\n",
              "      <th>796</th>\n",
              "      <td>DirectDraw compatibility tool for Windows - Fix colours in old games!</td>\n",
              "      <td>A small tool to help fix the colour issues present old DirectDraw games, running on Windows Vista upwards.\\n\\nhttps://github.com/crozone/DirectDraw-Compatibility-Changer\\n\\nI wrote this a few years ago when trying to get some old games like StarCraft 1 (patch 1.6) working on Windows 7. It's just a GUI front end for managing the various registry keys involved with DirectDraw's compatibility settings, and as such it doesn't do anything that you couldn't do yourself with Regedit, but it aims to...</td>\n",
              "      <td>3</td>\n",
              "      <td>crozone</td>\n",
              "      <td>21</td>\n",
              "      <td>https://www.reddit.com/r/windows/comments/384kkm/directdraw_compatibility_tool_for_windows_fix/</td>\n",
              "      <td>1433190432</td>\n",
              "      <td>windows</td>\n",
              "    </tr>\n",
              "    <tr>\n",
              "      <th>342</th>\n",
              "      <td>Need some help after doing new update. There is a huge amount of space between files when looking at a folder organized by \"list\" view. How do I get the old spacing back or at least change it so i can see more in an open window.</td>\n",
              "      <td>Example.\\n\\n[What it looks like now](https://i.imgur.com/VzcuTPb.png)\\n\\n[how it should look kind of, bad MSPaint fix]\\n(https://i.imgur.com/ArlxRrm.png)</td>\n",
              "      <td>6</td>\n",
              "      <td>wolfhazard</td>\n",
              "      <td>26</td>\n",
              "      <td>https://www.reddit.com/r/windows/comments/7adpla/need_some_help_after_doing_new_update_there_is_a/</td>\n",
              "      <td>1509649131</td>\n",
              "      <td>windows</td>\n",
              "    </tr>\n",
              "    <tr>\n",
              "      <th>769</th>\n",
              "      <td>Problem installing Windows 10, Error Code 80246010. Any help?</td>\n",
              "      <td></td>\n",
              "      <td>28</td>\n",
              "      <td>IAmLinxy</td>\n",
              "      <td>17</td>\n",
              "      <td>https://www.reddit.com/r/windows/comments/3f4xof/problem_installing_windows_10_error_code_80246010/</td>\n",
              "      <td>1438243185</td>\n",
              "      <td>windows</td>\n",
              "    </tr>\n",
              "  </tbody>\n",
              "</table>\n",
              "</div>"
            ],
            "text/plain": [
              "                                                                                                                                                                                                                                    title  \\\n",
              "774                                                                                                                                Tron v6.4.1 (2015-07-22) // RogueKiller (stalling, log size) fix; rkill whitelist fix; subtool updates   \n",
              "152                                                                                                                                                                                   [Security] Someone tried to project on my computer?   \n",
              "590                                                                                                                                                        Friend commited suicide. family ask for help removing password from windows 10   \n",
              "212                                                                                                                                                                                 Literally locked out of my desktop. Please send help.   \n",
              "226                                                                                                                                                                                                                  System Locale Issues   \n",
              "293                                                                                                                                                                         Trying to launch Steam with elevated privileges on boot/login   \n",
              "964                                                                                                                                                                                     Should I finally make the switch from XP to Win7?   \n",
              "796                                                                                                                                                                 DirectDraw compatibility tool for Windows - Fix colours in old games!   \n",
              "342  Need some help after doing new update. There is a huge amount of space between files when looking at a folder organized by \"list\" view. How do I get the old spacing back or at least change it so i can see more in an open window.   \n",
              "769                                                                                                                                                                         Problem installing Windows 10, Error Code 80246010. Any help?   \n",
              "\n",
              "                                                                                                                                                                                                                                                                                                                                                                                                                                                                                                                selftext  \\\n",
              "774  *[x-post /r/TronScript]*\\n\\n------------\\n\\n\\n##Background\\n\\nTron is a script that \"fights for the User\"; basically automates a bunch of scanning/disinfection/cleanup tools on a Windows system. I got tired of running these utilities manually and decided to just script the whole thing. I hope this helps other techs and admins.\\n\\n----------------------------------------\\n\\n##Stages of Tron:\\n\\n0. **Prep**: `rkill`, `ProcessKiller`, `TDSSKiller`, `Stinger`, `registry backup`, `WMI repair`, `s...   \n",
              "152  So i'm freaking out a bit because my PC has some rather important stuff and the last thing i need is to have my security compromised. I just got a windows notification that \"Mitu wants to project to your computer\"... I clicked No but WTF?\\n\\nI am using windows 10 with Windows Defender on and Malwarebytes premium. I just scanned my computer again with both and got nothing.\\n\\nI mistakenly but publicly posted a screenshot with my IP a few hours ago and the only thing i can think of is someone ...   \n",
              "590  hi, before starting i want to say that this is 100% legitimate.  My close friend committed suicide a week ago. his parents asked me if i could remove the password on his asus ROG gaming laptop for him. being that i've done this in the past with offline NT before, i said sure. well that was before windows 10. i tried using that and it seemed to work but still asks for a password, then i remember about windows 10 and having a hotmail account linked to it. (i use local) so its asking for the ho...   \n",
              "212                                                                                                                                                                                                                                                                                                                                                                                                                                                                                                                        \n",
              "226                                                                                                                                                                    So A couple months I wanted to play a Japanese game so I had to change the System Locale.  I'm done with the game and so I switched the Locale back to English and now the Nvidia in my Control Panel under Appearance And Personalization is in some Japanese text and so is the Mcafee Security Scan Plus is now in Japanese too.  Please help    \n",
              "293                                                                                                                                                                                                   But although I've followed several guides it doesn't seem to work. I'd appreciate any help from someone who has done this with a similar program.\\n\\nI login with a standard user but run programs with admin. This is why I would like this.\\n\\nAny help would be appreciated and if not, merry Christmas anywho.   \n",
              "964  A little background on myself. First, I tried using the search but didn't find a lot of advice specific to my situation, aside from most people supporting Win7 enough that I almost didn't feel the need to make this topic and instead just upgrade, so I apologize if this is old hat around here.\\n\\nSo, I have been using Mac computers for the last 4 years for school and work, so combining the fact that I have zero free time to play PC games, and that the last OS I was familiar with was XP Home, ...   \n",
              "796  A small tool to help fix the colour issues present old DirectDraw games, running on Windows Vista upwards.\\n\\nhttps://github.com/crozone/DirectDraw-Compatibility-Changer\\n\\nI wrote this a few years ago when trying to get some old games like StarCraft 1 (patch 1.6) working on Windows 7. It's just a GUI front end for managing the various registry keys involved with DirectDraw's compatibility settings, and as such it doesn't do anything that you couldn't do yourself with Regedit, but it aims to...   \n",
              "342                                                                                                                                                                                                                                                                                                                                                            Example.\\n\\n[What it looks like now](https://i.imgur.com/VzcuTPb.png)\\n\\n[how it should look kind of, bad MSPaint fix]\\n(https://i.imgur.com/ArlxRrm.png)   \n",
              "769                                                                                                                                                                                                                                                                                                                                                                                                                                                                                                                        \n",
              "\n",
              "     num_comments             author  score  \\\n",
              "774             6            vocatus     23   \n",
              "152            16  asdasdasdasdfff44     13   \n",
              "590            58        Valkyrie743     59   \n",
              "212            32       AlexSilva247     27   \n",
              "226             3          mfright04     17   \n",
              "293            15   ClandestineMovah     19   \n",
              "964            56         Verb_Rogue     17   \n",
              "796             3            crozone     21   \n",
              "342             6         wolfhazard     26   \n",
              "769            28           IAmLinxy     17   \n",
              "\n",
              "                                                                                               full_link  \\\n",
              "774   https://www.reddit.com/r/windows/comments/3egaoz/tron_v641_20150722_roguekiller_stalling_log_size/   \n",
              "152   https://www.reddit.com/r/windows/comments/99hhhs/security_someone_tried_to_project_on_my_computer/   \n",
              "590        https://www.reddit.com/r/windows/comments/57933o/friend_commited_suicide_family_ask_for_help/   \n",
              "212     https://www.reddit.com/r/windows/comments/8expgw/literally_locked_out_of_my_desktop_please_send/   \n",
              "226                               https://www.reddit.com/r/windows/comments/8avh14/system_locale_issues/   \n",
              "293    https://www.reddit.com/r/windows/comments/7m6suq/trying_to_launch_steam_with_elevated_privileges/   \n",
              "964    https://www.reddit.com/r/windows/comments/idfa2/should_i_finally_make_the_switch_from_xp_to_win7/   \n",
              "796      https://www.reddit.com/r/windows/comments/384kkm/directdraw_compatibility_tool_for_windows_fix/   \n",
              "342   https://www.reddit.com/r/windows/comments/7adpla/need_some_help_after_doing_new_update_there_is_a/   \n",
              "769  https://www.reddit.com/r/windows/comments/3f4xof/problem_installing_windows_10_error_code_80246010/   \n",
              "\n",
              "     created_utc subreddit  \n",
              "774   1437750543   windows  \n",
              "152   1534974421   windows  \n",
              "590   1476343417   windows  \n",
              "212   1524695184   windows  \n",
              "226   1523244431   windows  \n",
              "293   1514278882   windows  \n",
              "964   1309455021   windows  \n",
              "796   1433190432   windows  \n",
              "342   1509649131   windows  \n",
              "769   1438243185   windows  "
            ]
          },
          "metadata": {},
          "execution_count": 134
        }
      ]
    },
    {
      "cell_type": "code",
      "metadata": {
        "colab": {
          "base_uri": "https://localhost:8080/"
        },
        "id": "223CHsowhhZO",
        "outputId": "5dcfa400-a540-4e75-ed61-7f8a1cd5d52c"
      },
      "source": [
        "for x in win_submissions[\"full_link\"][0:5]:\n",
        "  print(x)"
      ],
      "execution_count": null,
      "outputs": [
        {
          "output_type": "stream",
          "name": "stdout",
          "text": [
            "https://www.reddit.com/r/windows/comments/o0q4dz/if_you_want_to_run_the_windows_11_build_natively/\n",
            "https://www.reddit.com/r/windows/comments/nzanlu/can_anyone_help_mei_just_came_back_from_linux_and/\n",
            "https://www.reddit.com/r/windows/comments/lqxmtr/help_i_cant_tilt_it_out_and_lift_it_up_and_i/\n",
            "https://www.reddit.com/r/windows/comments/lc9926/can_someone_help_me_to_please_solve_this_issue/\n",
            "https://www.reddit.com/r/windows/comments/l9xqej/this_pops_up_when_im_trying_to_update_windows_i/\n"
          ]
        }
      ]
    },
    {
      "cell_type": "code",
      "metadata": {
        "id": "FPsxghPKjCDd"
      },
      "source": [
        "win_comments = fetch_comments(win_submissions[\"full_link\"][0:100]) "
      ],
      "execution_count": null,
      "outputs": []
    },
    {
      "cell_type": "code",
      "metadata": {
        "id": "4dD4FvpXJ6mj"
      },
      "source": [
        "import csv\n",
        "\n",
        "keys = win_comments[0].keys()\n",
        "with open('win_comments.csv', 'w', newline='')  as output_file:\n",
        "    dict_writer = csv.DictWriter(output_file, keys)\n",
        "    dict_writer.writeheader()\n",
        "    dict_writer.writerows(win_comments)"
      ],
      "execution_count": null,
      "outputs": []
    },
    {
      "cell_type": "markdown",
      "metadata": {
        "id": "i2AsNUeOi9ZC"
      },
      "source": [
        "## Fetching Linux data"
      ]
    },
    {
      "cell_type": "code",
      "metadata": {
        "colab": {
          "base_uri": "https://localhost:8080/"
        },
        "id": "Zs0U2sxoiARX",
        "outputId": "670c0736-2ded-4c4a-9500-c57c8ad1d0f8"
      },
      "source": [
        "api_request_generator = api.search_submissions(subreddit='linux', q='help', score = \">10\")\n",
        "lin_submissions = pd.DataFrame([submission.d_ for submission in api_request_generator])\n",
        "lin_submissions.shape"
      ],
      "execution_count": null,
      "outputs": [
        {
          "output_type": "stream",
          "name": "stderr",
          "text": [
            "/usr/local/lib/python3.7/dist-packages/psaw/PushshiftAPI.py:252: UserWarning: Not all PushShift shards are active. Query results may be incomplete\n",
            "  warnings.warn(shards_down_message)\n"
          ]
        },
        {
          "output_type": "execute_result",
          "data": {
            "text/plain": [
              "(1092, 96)"
            ]
          },
          "metadata": {},
          "execution_count": 138
        }
      ]
    },
    {
      "cell_type": "code",
      "metadata": {
        "colab": {
          "base_uri": "https://localhost:8080/",
          "height": 1000
        },
        "id": "F3gUDx5pleKb",
        "outputId": "f9e0c917-8190-4296-887b-6194eaf23562"
      },
      "source": [
        "lin_submissions[['title','selftext', 'num_comments', 'author','score','full_link','created_utc','subreddit']].sample(10)"
      ],
      "execution_count": null,
      "outputs": [
        {
          "output_type": "execute_result",
          "data": {
            "text/html": [
              "<div>\n",
              "<style scoped>\n",
              "    .dataframe tbody tr th:only-of-type {\n",
              "        vertical-align: middle;\n",
              "    }\n",
              "\n",
              "    .dataframe tbody tr th {\n",
              "        vertical-align: top;\n",
              "    }\n",
              "\n",
              "    .dataframe thead th {\n",
              "        text-align: right;\n",
              "    }\n",
              "</style>\n",
              "<table border=\"1\" class=\"dataframe\">\n",
              "  <thead>\n",
              "    <tr style=\"text-align: right;\">\n",
              "      <th></th>\n",
              "      <th>title</th>\n",
              "      <th>selftext</th>\n",
              "      <th>num_comments</th>\n",
              "      <th>author</th>\n",
              "      <th>score</th>\n",
              "      <th>full_link</th>\n",
              "      <th>created_utc</th>\n",
              "      <th>subreddit</th>\n",
              "    </tr>\n",
              "  </thead>\n",
              "  <tbody>\n",
              "    <tr>\n",
              "      <th>180</th>\n",
              "      <td>With your help, we’re happy to introduce DigitalOcean Currents - A quarterly report on developer cloud trends</td>\n",
              "      <td>Hey Everyone!  Last month we at DigitalOcean reached out and asked you all to participate in a survey asking about the tools and resources developers prefer.  Over a couple weeks we received responses from over one thousand people. \\n\\nToday, we’re happy to announce the release of the first quarterly DigitalOcean Currents Report.  Each quarter we’ll be sharing both survey results and a few pieces of information from our own internal systems that highlight how developers work.  \\n\\n[The full ...</td>\n",
              "      <td>5</td>\n",
              "      <td>ryanq-do</td>\n",
              "      <td>13</td>\n",
              "      <td>https://www.reddit.com/r/linux/comments/71llgu/with_your_help_were_happy_to_introduce/</td>\n",
              "      <td>1506022327</td>\n",
              "      <td>linux</td>\n",
              "    </tr>\n",
              "    <tr>\n",
              "      <th>254</th>\n",
              "      <td>Torrent RSS with linux iso's</td>\n",
              "      <td>Hi guy's. Does anyone got link to torrent RSS channel with only linux iso's ? I would like to help spreading \"the word\" by seeding some distros on my dedicated servers.</td>\n",
              "      <td>16</td>\n",
              "      <td>PonuryTyp</td>\n",
              "      <td>11</td>\n",
              "      <td>https://www.reddit.com/r/linux/comments/63zxe6/torrent_rss_with_linux_isos/</td>\n",
              "      <td>1491566270</td>\n",
              "      <td>linux</td>\n",
              "    </tr>\n",
              "    <tr>\n",
              "      <th>677</th>\n",
              "      <td>Is Linux right for me?</td>\n",
              "      <td>I've been reading about how much safer, faster, and more stable this OS is but still am hesitant and have questions. Is it possible to have both Windows and Linux on the same computer? I've also heard of some people running the system off of a flash/USB drive...is that possible?\\n\\nHow easy would it be for someone to use this system that is code illiterate and doesnt have any experience with writing code?\\n\\nThanks a lot in advance for your time and help to anyone who helps.</td>\n",
              "      <td>87</td>\n",
              "      <td>wHispeRing-I</td>\n",
              "      <td>12</td>\n",
              "      <td>https://www.reddit.com/r/linux/comments/27p3fd/is_linux_right_for_me/</td>\n",
              "      <td>1402322545</td>\n",
              "      <td>linux</td>\n",
              "    </tr>\n",
              "    <tr>\n",
              "      <th>263</th>\n",
              "      <td>A preliminary Litebook review</td>\n",
              "      <td>A few weeks back, you may recall that the folks from the Litebook project (https://litebook.store/) posted about their $250 Linux laptop running Elementary Linux.  I ordered (along with the SSD for quicker boots) and it arrived today.  I'm not much of a review writer, so I'll just put down my impressions and answer questions as I'm able.\\n\\nFirst impressions:  The Litebook is a nice, compact little computer, on par in size and weight with a medium-sized Chromebook.  I like having two USB 3.0...</td>\n",
              "      <td>9</td>\n",
              "      <td>retard_patrol</td>\n",
              "      <td>29</td>\n",
              "      <td>https://www.reddit.com/r/linux/comments/60yeoi/a_preliminary_litebook_review/</td>\n",
              "      <td>1490226620</td>\n",
              "      <td>linux</td>\n",
              "    </tr>\n",
              "    <tr>\n",
              "      <th>541</th>\n",
              "      <td>Gaming On Linux</td>\n",
              "      <td>Since the Windows 10 went live, there have been various articles popping up all over Reddit, moaning about one problem or another with it. \\n\\nIn Redditor discussions, someone inevitably mentions Linux, and the thread generally turns into this:\\n\\n  \"Linux\"\\n\\n\"But muh games\"\\n\\n\"Steam blah blah blah Wine\"\\n\\n\"what like 12 crappy non AAA games?\"\\n\\nSo I would like to (with your help) make a list of games that run on Linux that I, or any one else, can point to when these things come up.\\n\\n**...</td>\n",
              "      <td>67</td>\n",
              "      <td>m0r05</td>\n",
              "      <td>38</td>\n",
              "      <td>https://www.reddit.com/r/linux/comments/3hcehx/gaming_on_linux/</td>\n",
              "      <td>1439836019</td>\n",
              "      <td>linux</td>\n",
              "    </tr>\n",
              "    <tr>\n",
              "      <th>77</th>\n",
              "      <td>Linux touchpad like a Macbook: progress and a call for help</td>\n",
              "      <td></td>\n",
              "      <td>119</td>\n",
              "      <td>Austin98989</td>\n",
              "      <td>685</td>\n",
              "      <td>https://www.reddit.com/r/linux/comments/b5ekyj/linux_touchpad_like_a_macbook_progress_and_a_call/</td>\n",
              "      <td>1553539443</td>\n",
              "      <td>linux</td>\n",
              "    </tr>\n",
              "    <tr>\n",
              "      <th>114</th>\n",
              "      <td>Using Linux to teach PLCs</td>\n",
              "      <td>I mostly use Allen Bradley PLCs, which only supports windows.  I have an opportunity set up a new PLC lab for training new students PLCs.  The class is not brand specific and I would love to use Open Source whenever possible.  I will want to build ladder logic, download the programs onto the PLCs and operate inputs and outputs.  If anyone has used Linux or knows software that might help me, let me know.</td>\n",
              "      <td>4</td>\n",
              "      <td>Finniss</td>\n",
              "      <td>16</td>\n",
              "      <td>https://www.reddit.com/r/linux/comments/8zzscn/using_linux_to_teach_plcs/</td>\n",
              "      <td>1531950594</td>\n",
              "      <td>linux</td>\n",
              "    </tr>\n",
              "    <tr>\n",
              "      <th>690</th>\n",
              "      <td>Mediagoblin free media streaming/hosting software needs your help.</td>\n",
              "      <td></td>\n",
              "      <td>6</td>\n",
              "      <td>[deleted]</td>\n",
              "      <td>72</td>\n",
              "      <td>https://www.reddit.com/r/linux/comments/1z24av/mediagoblin_free_media_streaminghosting_software/</td>\n",
              "      <td>1393475057</td>\n",
              "      <td>linux</td>\n",
              "    </tr>\n",
              "    <tr>\n",
              "      <th>605</th>\n",
              "      <td>Funny Linux Commands</td>\n",
              "      <td>I haven't seen one of these threads in a while, and I was wondering what you guys could come up with. \\n\\nI was just messing around with the `go` compiler earlier, and thought this was pretty funny:\\n\\n    go get --help</td>\n",
              "      <td>28</td>\n",
              "      <td>zer0t3ch</td>\n",
              "      <td>11</td>\n",
              "      <td>https://www.reddit.com/r/linux/comments/2za7m6/funny_linux_commands/</td>\n",
              "      <td>1426544343</td>\n",
              "      <td>linux</td>\n",
              "    </tr>\n",
              "    <tr>\n",
              "      <th>378</th>\n",
              "      <td>PCSX2, a PS2 emulator needs your help.</td>\n",
              "      <td>They need Linux testers.\\n\\nI know some people that complain about emulators not being ported to Linux, well this is not the case and it needs you in order to make progress. \\n\\nIf you are interested read this article: \\nhttp://pcsx2.net/276-q2-2016-progress-report.html</td>\n",
              "      <td>155</td>\n",
              "      <td>JohanLiebheart</td>\n",
              "      <td>600</td>\n",
              "      <td>https://www.reddit.com/r/linux/comments/4omhu1/pcsx2_a_ps2_emulator_needs_your_help/</td>\n",
              "      <td>1466213632</td>\n",
              "      <td>linux</td>\n",
              "    </tr>\n",
              "  </tbody>\n",
              "</table>\n",
              "</div>"
            ],
            "text/plain": [
              "                                                                                                             title  \\\n",
              "180  With your help, we’re happy to introduce DigitalOcean Currents - A quarterly report on developer cloud trends   \n",
              "254                                                                                   Torrent RSS with linux iso's   \n",
              "677                                                                                         Is Linux right for me?   \n",
              "263                                                                                  A preliminary Litebook review   \n",
              "541                                                                                                Gaming On Linux   \n",
              "77                                                     Linux touchpad like a Macbook: progress and a call for help   \n",
              "114                                                                                      Using Linux to teach PLCs   \n",
              "690                                             Mediagoblin free media streaming/hosting software needs your help.   \n",
              "605                                                                                           Funny Linux Commands   \n",
              "378                                                                         PCSX2, a PS2 emulator needs your help.   \n",
              "\n",
              "                                                                                                                                                                                                                                                                                                                                                                                                                                                                                                                selftext  \\\n",
              "180  Hey Everyone!  Last month we at DigitalOcean reached out and asked you all to participate in a survey asking about the tools and resources developers prefer.  Over a couple weeks we received responses from over one thousand people. \\n\\nToday, we’re happy to announce the release of the first quarterly DigitalOcean Currents Report.  Each quarter we’ll be sharing both survey results and a few pieces of information from our own internal systems that highlight how developers work.  \\n\\n[The full ...   \n",
              "254                                                                                                                                                                                                                                                                                                                                             Hi guy's. Does anyone got link to torrent RSS channel with only linux iso's ? I would like to help spreading \"the word\" by seeding some distros on my dedicated servers.   \n",
              "677                      I've been reading about how much safer, faster, and more stable this OS is but still am hesitant and have questions. Is it possible to have both Windows and Linux on the same computer? I've also heard of some people running the system off of a flash/USB drive...is that possible?\\n\\nHow easy would it be for someone to use this system that is code illiterate and doesnt have any experience with writing code?\\n\\nThanks a lot in advance for your time and help to anyone who helps.   \n",
              "263  A few weeks back, you may recall that the folks from the Litebook project (https://litebook.store/) posted about their $250 Linux laptop running Elementary Linux.  I ordered (along with the SSD for quicker boots) and it arrived today.  I'm not much of a review writer, so I'll just put down my impressions and answer questions as I'm able.\\n\\nFirst impressions:  The Litebook is a nice, compact little computer, on par in size and weight with a medium-sized Chromebook.  I like having two USB 3.0...   \n",
              "541  Since the Windows 10 went live, there have been various articles popping up all over Reddit, moaning about one problem or another with it. \\n\\nIn Redditor discussions, someone inevitably mentions Linux, and the thread generally turns into this:\\n\\n  \"Linux\"\\n\\n\"But muh games\"\\n\\n\"Steam blah blah blah Wine\"\\n\\n\"what like 12 crappy non AAA games?\"\\n\\nSo I would like to (with your help) make a list of games that run on Linux that I, or any one else, can point to when these things come up.\\n\\n**...   \n",
              "77                                                                                                                                                                                                                                                                                                                                                                                                                                                                                                                         \n",
              "114                                                                                               I mostly use Allen Bradley PLCs, which only supports windows.  I have an opportunity set up a new PLC lab for training new students PLCs.  The class is not brand specific and I would love to use Open Source whenever possible.  I will want to build ladder logic, download the programs onto the PLCs and operate inputs and outputs.  If anyone has used Linux or knows software that might help me, let me know.   \n",
              "690                                                                                                                                                                                                                                                                                                                                                                                                                                                                                                                        \n",
              "605                                                                                                                                                                                                                                                                                          I haven't seen one of these threads in a while, and I was wondering what you guys could come up with. \\n\\nI was just messing around with the `go` compiler earlier, and thought this was pretty funny:\\n\\n    go get --help   \n",
              "378                                                                                                                                                                                                                                       They need Linux testers.\\n\\nI know some people that complain about emulators not being ported to Linux, well this is not the case and it needs you in order to make progress. \\n\\nIf you are interested read this article: \\nhttp://pcsx2.net/276-q2-2016-progress-report.html   \n",
              "\n",
              "     num_comments          author  score  \\\n",
              "180             5        ryanq-do     13   \n",
              "254            16       PonuryTyp     11   \n",
              "677            87    wHispeRing-I     12   \n",
              "263             9   retard_patrol     29   \n",
              "541            67           m0r05     38   \n",
              "77            119     Austin98989    685   \n",
              "114             4         Finniss     16   \n",
              "690             6       [deleted]     72   \n",
              "605            28        zer0t3ch     11   \n",
              "378           155  JohanLiebheart    600   \n",
              "\n",
              "                                                                                             full_link  \\\n",
              "180             https://www.reddit.com/r/linux/comments/71llgu/with_your_help_were_happy_to_introduce/   \n",
              "254                        https://www.reddit.com/r/linux/comments/63zxe6/torrent_rss_with_linux_isos/   \n",
              "677                              https://www.reddit.com/r/linux/comments/27p3fd/is_linux_right_for_me/   \n",
              "263                      https://www.reddit.com/r/linux/comments/60yeoi/a_preliminary_litebook_review/   \n",
              "541                                    https://www.reddit.com/r/linux/comments/3hcehx/gaming_on_linux/   \n",
              "77   https://www.reddit.com/r/linux/comments/b5ekyj/linux_touchpad_like_a_macbook_progress_and_a_call/   \n",
              "114                          https://www.reddit.com/r/linux/comments/8zzscn/using_linux_to_teach_plcs/   \n",
              "690   https://www.reddit.com/r/linux/comments/1z24av/mediagoblin_free_media_streaminghosting_software/   \n",
              "605                               https://www.reddit.com/r/linux/comments/2za7m6/funny_linux_commands/   \n",
              "378               https://www.reddit.com/r/linux/comments/4omhu1/pcsx2_a_ps2_emulator_needs_your_help/   \n",
              "\n",
              "     created_utc subreddit  \n",
              "180   1506022327     linux  \n",
              "254   1491566270     linux  \n",
              "677   1402322545     linux  \n",
              "263   1490226620     linux  \n",
              "541   1439836019     linux  \n",
              "77    1553539443     linux  \n",
              "114   1531950594     linux  \n",
              "690   1393475057     linux  \n",
              "605   1426544343     linux  \n",
              "378   1466213632     linux  "
            ]
          },
          "metadata": {},
          "execution_count": 139
        }
      ]
    },
    {
      "cell_type": "code",
      "metadata": {
        "id": "3wpWvzLwlj6F"
      },
      "source": [
        "lin_comments = fetch_comments(lin_submissions[\"full_link\"][0:100]) "
      ],
      "execution_count": null,
      "outputs": []
    },
    {
      "cell_type": "code",
      "metadata": {
        "id": "pXcSBM1Clmow"
      },
      "source": [
        "import csv\n",
        "\n",
        "keys = lin_comments[0].keys()\n",
        "with open('lin_comments.csv', 'w', newline='')  as output_file:\n",
        "    dict_writer = csv.DictWriter(output_file, keys)\n",
        "    dict_writer.writeheader()\n",
        "    dict_writer.writerows(lin_comments)"
      ],
      "execution_count": null,
      "outputs": []
    }
  ]
}