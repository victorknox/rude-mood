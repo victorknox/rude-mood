{
  "nbformat": 4,
  "nbformat_minor": 0,
  "metadata": {
    "colab": {
      "name": "politeness_classifier.ipynb",
      "provenance": [],
      "collapsed_sections": [],
      "authorship_tag": "ABX9TyOl5FKVLF90yahv5NVujpXf",
      "include_colab_link": true
    },
    "kernelspec": {
      "name": "python3",
      "display_name": "Python 3"
    },
    "language_info": {
      "name": "python"
    }
  },
  "cells": [
    {
      "cell_type": "markdown",
      "metadata": {
        "id": "view-in-github",
        "colab_type": "text"
      },
      "source": [
        "<a href=\"https://colab.research.google.com/github/victorknox/rude-mood/blob/main/politeness_classifier.ipynb\" target=\"_parent\"><img src=\"https://colab.research.google.com/assets/colab-badge.svg\" alt=\"Open In Colab\"/></a>"
      ]
    },
    {
      "cell_type": "markdown",
      "metadata": {
        "id": "15sluq9yirV_"
      },
      "source": [
        " Downloading the libraries and dependencies\n",
        "\n",
        " ---"
      ]
    },
    {
      "cell_type": "code",
      "metadata": {
        "id": "aWc5SaetRmeO"
      },
      "source": [
        "!python -m spacy download en_core_web_sm\n",
        "!pip3 install convokit"
      ],
      "execution_count": null,
      "outputs": []
    },
    {
      "cell_type": "code",
      "metadata": {
        "id": "sCzn3afKyPJv"
      },
      "source": [
        "!python -m nltk.downloader all"
      ],
      "execution_count": null,
      "outputs": []
    },
    {
      "cell_type": "code",
      "metadata": {
        "id": "UNYk0PmO75H3"
      },
      "source": [
        "import pandas as pd\n",
        "from csv import reader\n",
        "import numpy as np\n",
        "from tqdm import tqdm\n",
        "from collections import defaultdict\n",
        "import spacy"
      ],
      "execution_count": 8,
      "outputs": []
    },
    {
      "cell_type": "markdown",
      "metadata": {
        "id": "J-gKOyLGk_ke"
      },
      "source": [
        "We are using the Cornell Conversational Analysis Toolkit ([Convokit](https://convokit.cornell.edu/)) for running the politeness analyser"
      ]
    },
    {
      "cell_type": "code",
      "metadata": {
        "id": "FYWvv34u_Cxr"
      },
      "source": [
        "import convokit"
      ],
      "execution_count": 12,
      "outputs": []
    },
    {
      "cell_type": "code",
      "metadata": {
        "id": "ipA-ejk6_QJv"
      },
      "source": [
        "from convokit import Corpus, Speaker, Utterance\n",
        "from convokit import download\n",
        "from pandas import DataFrame\n",
        "from typing import List, Dict, Set\n",
        "import nltk"
      ],
      "execution_count": 13,
      "outputs": []
    },
    {
      "cell_type": "code",
      "metadata": {
        "id": "3eUmafcjOimp"
      },
      "source": [
        "df=pd.read_csv('/content/dataset/lin_comments.csv',nrows=100)\n",
        "ids=list(df.index)\n",
        "# df=df.reset_index()\n",
        "df['id']=ids\n",
        "df['timestamp']=ids\n",
        "df['conversation_id']=ids\n",
        "df['reply_to']=ids\n",
        "modif_df=df.rename(columns={'body':'text','author':'speaker'})"
      ],
      "execution_count": 14,
      "outputs": []
    },
    {
      "cell_type": "code",
      "metadata": {
        "colab": {
          "base_uri": "https://localhost:8080/",
          "height": 1000
        },
        "id": "NEzCGGbTTc1h",
        "outputId": "e6ef457b-6f5a-4c82-d8b6-3f80b794f0b1"
      },
      "source": [
        "modif_df"
      ],
      "execution_count": 15,
      "outputs": [
        {
          "output_type": "execute_result",
          "data": {
            "text/html": [
              "<div>\n",
              "<style scoped>\n",
              "    .dataframe tbody tr th:only-of-type {\n",
              "        vertical-align: middle;\n",
              "    }\n",
              "\n",
              "    .dataframe tbody tr th {\n",
              "        vertical-align: top;\n",
              "    }\n",
              "\n",
              "    .dataframe thead th {\n",
              "        text-align: right;\n",
              "    }\n",
              "</style>\n",
              "<table border=\"1\" class=\"dataframe\">\n",
              "  <thead>\n",
              "    <tr style=\"text-align: right;\">\n",
              "      <th></th>\n",
              "      <th>title</th>\n",
              "      <th>text</th>\n",
              "      <th>votes</th>\n",
              "      <th>subreddit name</th>\n",
              "      <th>speaker</th>\n",
              "      <th>politeness score</th>\n",
              "      <th>id</th>\n",
              "      <th>timestamp</th>\n",
              "      <th>conversation_id</th>\n",
              "      <th>reply_to</th>\n",
              "    </tr>\n",
              "  </thead>\n",
              "  <tbody>\n",
              "    <tr>\n",
              "      <th>0</th>\n",
              "      <td>Why can Linux run on most desktops but not mos...</td>\n",
              "      <td>It _can_ run on most phones, but requires a lo...</td>\n",
              "      <td>134</td>\n",
              "      <td>linux</td>\n",
              "      <td>PureTryOut</td>\n",
              "      <td>NaN</td>\n",
              "      <td>0</td>\n",
              "      <td>0</td>\n",
              "      <td>0</td>\n",
              "      <td>0</td>\n",
              "    </tr>\n",
              "    <tr>\n",
              "      <th>1</th>\n",
              "      <td>Why can Linux run on most desktops but not mos...</td>\n",
              "      <td>There's Android. There's [Sailfish OS](https:/...</td>\n",
              "      <td>175</td>\n",
              "      <td>linux</td>\n",
              "      <td>da_peda</td>\n",
              "      <td>NaN</td>\n",
              "      <td>1</td>\n",
              "      <td>1</td>\n",
              "      <td>1</td>\n",
              "      <td>1</td>\n",
              "    </tr>\n",
              "    <tr>\n",
              "      <th>2</th>\n",
              "      <td>Why can Linux run on most desktops but not mos...</td>\n",
              "      <td>Two reasons. Most phones have locked boot load...</td>\n",
              "      <td>117</td>\n",
              "      <td>linux</td>\n",
              "      <td>1_p_freely</td>\n",
              "      <td>NaN</td>\n",
              "      <td>2</td>\n",
              "      <td>2</td>\n",
              "      <td>2</td>\n",
              "      <td>2</td>\n",
              "    </tr>\n",
              "    <tr>\n",
              "      <th>3</th>\n",
              "      <td>Why can Linux run on most desktops but not mos...</td>\n",
              "      <td>Most android devices run on downstream kernels...</td>\n",
              "      <td>25</td>\n",
              "      <td>linux</td>\n",
              "      <td>Worldly_Topic</td>\n",
              "      <td>NaN</td>\n",
              "      <td>3</td>\n",
              "      <td>3</td>\n",
              "      <td>3</td>\n",
              "      <td>3</td>\n",
              "    </tr>\n",
              "    <tr>\n",
              "      <th>4</th>\n",
              "      <td>Why can Linux run on most desktops but not mos...</td>\n",
              "      <td>Phone kernels are very far downstream from mai...</td>\n",
              "      <td>9</td>\n",
              "      <td>linux</td>\n",
              "      <td>Atemu12</td>\n",
              "      <td>NaN</td>\n",
              "      <td>4</td>\n",
              "      <td>4</td>\n",
              "      <td>4</td>\n",
              "      <td>4</td>\n",
              "    </tr>\n",
              "    <tr>\n",
              "      <th>...</th>\n",
              "      <td>...</td>\n",
              "      <td>...</td>\n",
              "      <td>...</td>\n",
              "      <td>...</td>\n",
              "      <td>...</td>\n",
              "      <td>...</td>\n",
              "      <td>...</td>\n",
              "      <td>...</td>\n",
              "      <td>...</td>\n",
              "      <td>...</td>\n",
              "    </tr>\n",
              "    <tr>\n",
              "      <th>95</th>\n",
              "      <td>Let us introduce you to the secure open-source...</td>\n",
              "      <td>Why do open source projects choose such terrib...</td>\n",
              "      <td>8</td>\n",
              "      <td>linux</td>\n",
              "      <td>RootHouston</td>\n",
              "      <td>NaN</td>\n",
              "      <td>95</td>\n",
              "      <td>95</td>\n",
              "      <td>95</td>\n",
              "      <td>95</td>\n",
              "    </tr>\n",
              "    <tr>\n",
              "      <th>96</th>\n",
              "      <td>Let us introduce you to the secure open-source...</td>\n",
              "      <td>This is going to sound petty (because it is). ...</td>\n",
              "      <td>115</td>\n",
              "      <td>linux</td>\n",
              "      <td>fuckEAinthecloaca</td>\n",
              "      <td>NaN</td>\n",
              "      <td>96</td>\n",
              "      <td>96</td>\n",
              "      <td>96</td>\n",
              "      <td>96</td>\n",
              "    </tr>\n",
              "    <tr>\n",
              "      <th>97</th>\n",
              "      <td>Let us introduce you to the secure open-source...</td>\n",
              "      <td>Looks interesting! The deployment is kinda wei...</td>\n",
              "      <td>32</td>\n",
              "      <td>linux</td>\n",
              "      <td>ABotelho23</td>\n",
              "      <td>NaN</td>\n",
              "      <td>97</td>\n",
              "      <td>97</td>\n",
              "      <td>97</td>\n",
              "      <td>97</td>\n",
              "    </tr>\n",
              "    <tr>\n",
              "      <th>98</th>\n",
              "      <td>Let us introduce you to the secure open-source...</td>\n",
              "      <td>how does this compare to RocketChat?</td>\n",
              "      <td>18</td>\n",
              "      <td>linux</td>\n",
              "      <td>limeunderground</td>\n",
              "      <td>NaN</td>\n",
              "      <td>98</td>\n",
              "      <td>98</td>\n",
              "      <td>98</td>\n",
              "      <td>98</td>\n",
              "    </tr>\n",
              "    <tr>\n",
              "      <th>99</th>\n",
              "      <td>Let us introduce you to the secure open-source...</td>\n",
              "      <td>And here's the github [link](https://github.co...</td>\n",
              "      <td>28</td>\n",
              "      <td>linux</td>\n",
              "      <td>LikeTheMobilizer</td>\n",
              "      <td>NaN</td>\n",
              "      <td>99</td>\n",
              "      <td>99</td>\n",
              "      <td>99</td>\n",
              "      <td>99</td>\n",
              "    </tr>\n",
              "  </tbody>\n",
              "</table>\n",
              "<p>100 rows × 10 columns</p>\n",
              "</div>"
            ],
            "text/plain": [
              "                                                title  ... reply_to\n",
              "0   Why can Linux run on most desktops but not mos...  ...        0\n",
              "1   Why can Linux run on most desktops but not mos...  ...        1\n",
              "2   Why can Linux run on most desktops but not mos...  ...        2\n",
              "3   Why can Linux run on most desktops but not mos...  ...        3\n",
              "4   Why can Linux run on most desktops but not mos...  ...        4\n",
              "..                                                ...  ...      ...\n",
              "95  Let us introduce you to the secure open-source...  ...       95\n",
              "96  Let us introduce you to the secure open-source...  ...       96\n",
              "97  Let us introduce you to the secure open-source...  ...       97\n",
              "98  Let us introduce you to the secure open-source...  ...       98\n",
              "99  Let us introduce you to the secure open-source...  ...       99\n",
              "\n",
              "[100 rows x 10 columns]"
            ]
          },
          "metadata": {},
          "execution_count": 15
        }
      ]
    },
    {
      "cell_type": "markdown",
      "metadata": {
        "id": "rQ_A5Wk5mUcG"
      },
      "source": [
        "Generating a [Convokit Corpus](https://convokit.cornell.edu/documentation/corpus.html) from the above pandas dataframe"
      ]
    },
    {
      "cell_type": "code",
      "metadata": {
        "colab": {
          "base_uri": "https://localhost:8080/"
        },
        "id": "wqj5vDkGQzeq",
        "outputId": "a5505471-d3db-44c7-9fc2-2c64e91e9cd8"
      },
      "source": [
        "new_corpus=Corpus.from_pandas(modif_df)"
      ],
      "execution_count": 16,
      "outputs": [
        {
          "output_type": "stream",
          "name": "stderr",
          "text": [
            "100it [00:00, 4413.85it/s]\n"
          ]
        }
      ]
    },
    {
      "cell_type": "markdown",
      "metadata": {
        "id": "AZaBBXQ0m3Hr"
      },
      "source": [
        "- Printing basic information about the corpus"
      ]
    },
    {
      "cell_type": "code",
      "metadata": {
        "id": "BvOsK9ntSHmX",
        "colab": {
          "base_uri": "https://localhost:8080/"
        },
        "outputId": "3f561877-5134-498f-930d-fec3c4db7bb9"
      },
      "source": [
        "new_corpus.print_summary_stats()"
      ],
      "execution_count": 17,
      "outputs": [
        {
          "output_type": "stream",
          "name": "stdout",
          "text": [
            "Number of Speakers: 72\n",
            "Number of Utterances: 100\n",
            "Number of Conversations: 100\n"
          ]
        }
      ]
    },
    {
      "cell_type": "markdown",
      "metadata": {
        "id": "n0rRcWnxnBA_"
      },
      "source": [
        "Importing the [Convokit Classifier](https://convokit.cornell.edu/documentation/classifier.html) and its dependencies to run our politeness detection analysis"
      ]
    },
    {
      "cell_type": "code",
      "metadata": {
        "id": "-hyNLBcWsKAf"
      },
      "source": [
        "import random\n",
        "from sklearn import svm\n",
        "from scipy.sparse import csr_matrix\n",
        "from sklearn.metrics import classification_report"
      ],
      "execution_count": 18,
      "outputs": []
    },
    {
      "cell_type": "code",
      "metadata": {
        "id": "AtNHls3xthIh"
      },
      "source": [
        "from convokit import Classifier"
      ],
      "execution_count": 19,
      "outputs": []
    },
    {
      "cell_type": "markdown",
      "metadata": {
        "id": "cpGGQRLMnSMC"
      },
      "source": [
        "- Convokit has many corpuses on which we can train the classifier.\n",
        "\n",
        "- In this case we have chosen the [wikipedia-politeness-corpus](https://convokit.cornell.edu/documentation/wiki_politeness.html) for the purpose"
      ]
    },
    {
      "cell_type": "code",
      "metadata": {
        "colab": {
          "base_uri": "https://localhost:8080/"
        },
        "id": "eAro-JQvvqTh",
        "outputId": "4ffd7761-fe8b-408b-df9c-414a8551147c"
      },
      "source": [
        "wiki_corpus = Corpus(download(\"wikipedia-politeness-corpus\"))\n",
        "# binary_corpus = Corpus(utterances=[utt for utt in wiki_corpus.iter_utterances() if utt.meta[\"Binary\"] != 0])"
      ],
      "execution_count": 20,
      "outputs": [
        {
          "output_type": "stream",
          "name": "stdout",
          "text": [
            "Downloading wikipedia-politeness-corpus to /root/.convokit/downloads/wikipedia-politeness-corpus\n",
            "Downloading wikipedia-politeness-corpus from http://zissou.infosci.cornell.edu/convokit/datasets/wikipedia-politeness-corpus/wikipedia-politeness-corpus.zip (1.7MB)... Done\n"
          ]
        }
      ]
    },
    {
      "cell_type": "markdown",
      "metadata": {
        "id": "8IhFcX1rnuc3"
      },
      "source": [
        "Importing the text parser and Politeness Strategies features to annotate the wikipedia corpus"
      ]
    },
    {
      "cell_type": "code",
      "metadata": {
        "id": "a0pVW_Gdv27X"
      },
      "source": [
        "from convokit import TextParser\n",
        "parser = TextParser()"
      ],
      "execution_count": 23,
      "outputs": []
    },
    {
      "cell_type": "code",
      "metadata": {
        "id": "FHstCEINwFJN"
      },
      "source": [
        "from convokit import PolitenessStrategies\n",
        "ps = PolitenessStrategies()"
      ],
      "execution_count": 24,
      "outputs": []
    },
    {
      "cell_type": "markdown",
      "metadata": {
        "id": "j9t4PcGToF_E"
      },
      "source": [
        "Annotating the corpus with politeness strategies"
      ]
    },
    {
      "cell_type": "code",
      "metadata": {
        "id": "4QQgLuzawfBH"
      },
      "source": [
        "wiki_corpus = ps.transform(wiki_corpus, markers=True)"
      ],
      "execution_count": 25,
      "outputs": []
    },
    {
      "cell_type": "markdown",
      "metadata": {
        "id": "GdVAz_y2pD6U"
      },
      "source": [
        "We make a subset of the corpus as we are only interested with the politeness part"
      ]
    },
    {
      "cell_type": "code",
      "metadata": {
        "id": "Bal9zEcP3RQP"
      },
      "source": [
        "binary_corpus = Corpus(utterances=[utt for utt in wiki_corpus.iter_utterances() if utt.meta[\"Binary\"] != 0])"
      ],
      "execution_count": 28,
      "outputs": []
    },
    {
      "cell_type": "code",
      "metadata": {
        "id": "WDael1Q63S0q"
      },
      "source": [
        "# clf_cv = Classifier(obj_type=\"utterance\", \n",
        "#                         pred_feats=[\"politeness_strategies\"], \n",
        "#                         labeller=lambda utt: utt.meta['Binary'] == 1)\n",
        "\n",
        "# clf_cv.evaluate_with_cv(binary_corpus)"
      ],
      "execution_count": null,
      "outputs": []
    },
    {
      "cell_type": "markdown",
      "metadata": {
        "id": "L-ZExb12pM0r"
      },
      "source": [
        "**Training the Classifer**\n",
        "1. Generating the `train_corpus`"
      ]
    },
    {
      "cell_type": "code",
      "metadata": {
        "colab": {
          "base_uri": "https://localhost:8080/"
        },
        "id": "_OphR1MS3mcJ",
        "outputId": "cd896950-88f1-48be-9b96-8d759eb04b99"
      },
      "source": [
        "# clf.summarize(test_pred)\n",
        "test_ids = binary_corpus.get_utterance_ids()[-100:]\n",
        "train_corpus = Corpus(utterances=[utt for utt in binary_corpus.iter_utterances() if utt.id not in test_ids])\n",
        "# test_corpus = Corpus(utterances=[utt for utt in binary_corpus.iter_utterances() if utt.id in test_ids])\n",
        "print(\"train size = {}\".format(len(train_corpus.get_utterance_ids())))\n"
      ],
      "execution_count": 31,
      "outputs": [
        {
          "output_type": "stream",
          "name": "stdout",
          "text": [
            "train size = 2078\n"
          ]
        }
      ]
    },
    {
      "cell_type": "markdown",
      "metadata": {
        "id": "Xvp0UcbApUNc"
      },
      "source": [
        "  2. Initializing the classifier object and training over `train_corpus`"
      ]
    },
    {
      "cell_type": "code",
      "metadata": {
        "colab": {
          "base_uri": "https://localhost:8080/"
        },
        "id": "t3m7U1ET3lz9",
        "outputId": "0703f454-c518-490a-e1ae-8a521c2fb08b"
      },
      "source": [
        "clf = Classifier(obj_type=\"utterance\", \n",
        "                        pred_feats=[\"politeness_strategies\"], \n",
        "                        labeller=lambda utt: utt.meta['Binary'] == 1)\n",
        "clf.fit(train_corpus)"
      ],
      "execution_count": 32,
      "outputs": [
        {
          "output_type": "stream",
          "name": "stdout",
          "text": [
            "Initialized default classification model (standard scaled logistic regression).\n"
          ]
        },
        {
          "output_type": "execute_result",
          "data": {
            "text/plain": [
              "<convokit.classifier.classifier.Classifier at 0x7f960f086910>"
            ]
          },
          "metadata": {},
          "execution_count": 32
        }
      ]
    },
    {
      "cell_type": "markdown",
      "metadata": {
        "id": "ehhr9fq9picv"
      },
      "source": [
        "**Politeness prediction in another corpus using the same classifier**\n",
        "1. Initialzing the `test_corpus`. Notice this 'new_corpus` is the corpus that we have made using the `lin_comments.csv`."
      ]
    },
    {
      "cell_type": "code",
      "metadata": {
        "colab": {
          "base_uri": "https://localhost:8080/"
        },
        "id": "Mshy-82esd7p",
        "outputId": "bc51d740-42e5-4c42-9047-5358f4a08e96"
      },
      "source": [
        "test_ids_new = new_corpus.get_utterance_ids()[0:]\n",
        "test_corpus = Corpus(utterances=[utt for utt in new_corpus.iter_utterances() if utt.id in test_ids_new])\n",
        "print(\"train size = {}, test size = {}\".format(len(train_corpus.get_utterance_ids()),\n",
        "                                               len(test_corpus.get_utterance_ids())))"
      ],
      "execution_count": 34,
      "outputs": [
        {
          "output_type": "stream",
          "name": "stdout",
          "text": [
            "train size = 2078, test size = 100\n"
          ]
        }
      ]
    },
    {
      "cell_type": "markdown",
      "metadata": {
        "id": "Nc_Tl7lrp7TE"
      },
      "source": [
        "  2. Running the classifer on each [utterance](https://convokit.cornell.edu/documentation/utterance.html) of the `test_corpus`"
      ]
    },
    {
      "cell_type": "code",
      "metadata": {
        "id": "V00hyBLPtZD7"
      },
      "source": [
        "list_utt=[]\n",
        "for utt in new_corpus.iter_utterances():\n",
        "  if utt.id in test_ids_new:\n",
        "    try:\n",
        "      utt=parser.transform_utterance(utt)\n",
        "      utt=ps.transform_utterance(utt)\n",
        "      list_utt.append(utt)\n",
        "    except:\n",
        "      continue\n",
        "# print(list_utt)\n",
        "test_pred = clf.transform_objs(list_utt)"
      ],
      "execution_count": 35,
      "outputs": []
    },
    {
      "cell_type": "code",
      "metadata": {
        "id": "nV8RrZfT8eS0"
      },
      "source": [
        "records= []\n",
        "for i in test_pred:\n",
        "  text=i.text\n",
        "  prediction=i.retrieve_meta('prediction')\n",
        "  score=i.retrieve_meta('pred_score')\n",
        "  # string =f'prediction: {prediction}  score: {score}\\n'\n",
        "  records.append([str(text),str(prediction),str(score)])\n"
      ],
      "execution_count": 67,
      "outputs": []
    },
    {
      "cell_type": "markdown",
      "metadata": {
        "id": "LdJ8ayIwrB36"
      },
      "source": [
        "Storing the results in a csv"
      ]
    },
    {
      "cell_type": "code",
      "metadata": {
        "id": "eFSxL42_Lc86"
      },
      "source": [
        "import csv   \n",
        "fields=['text','prediction','score']\n",
        "with open(r'results.csv', 'w') as f:\n",
        "    writer = csv.writer(f)\n",
        "    writer.writerow(fields)\n",
        "    for row in records:\n",
        "      writer.writerow(row)"
      ],
      "execution_count": 68,
      "outputs": []
    },
    {
      "cell_type": "markdown",
      "metadata": {
        "id": "iE9J588_uJcU"
      },
      "source": [
        "Results:"
      ]
    },
    {
      "cell_type": "code",
      "metadata": {
        "id": "0BweQMwZPXDz",
        "colab": {
          "base_uri": "https://localhost:8080/",
          "height": 423
        },
        "outputId": "7109f2fe-fa40-423a-b854-61562c9960c7"
      },
      "source": [
        "results=pd.read_csv('results.csv')\n",
        "results"
      ],
      "execution_count": 69,
      "outputs": [
        {
          "output_type": "execute_result",
          "data": {
            "text/html": [
              "<div>\n",
              "<style scoped>\n",
              "    .dataframe tbody tr th:only-of-type {\n",
              "        vertical-align: middle;\n",
              "    }\n",
              "\n",
              "    .dataframe tbody tr th {\n",
              "        vertical-align: top;\n",
              "    }\n",
              "\n",
              "    .dataframe thead th {\n",
              "        text-align: right;\n",
              "    }\n",
              "</style>\n",
              "<table border=\"1\" class=\"dataframe\">\n",
              "  <thead>\n",
              "    <tr style=\"text-align: right;\">\n",
              "      <th></th>\n",
              "      <th>text</th>\n",
              "      <th>prediction</th>\n",
              "      <th>score</th>\n",
              "    </tr>\n",
              "  </thead>\n",
              "  <tbody>\n",
              "    <tr>\n",
              "      <th>0</th>\n",
              "      <td>It _can_ run on most phones, but requires a lo...</td>\n",
              "      <td>0</td>\n",
              "      <td>0.280605</td>\n",
              "    </tr>\n",
              "    <tr>\n",
              "      <th>1</th>\n",
              "      <td>Two reasons. Most phones have locked boot load...</td>\n",
              "      <td>0</td>\n",
              "      <td>0.170371</td>\n",
              "    </tr>\n",
              "    <tr>\n",
              "      <th>2</th>\n",
              "      <td>Most android devices run on downstream kernels...</td>\n",
              "      <td>0</td>\n",
              "      <td>0.249747</td>\n",
              "    </tr>\n",
              "    <tr>\n",
              "      <th>3</th>\n",
              "      <td>Phone kernels are very far downstream from mai...</td>\n",
              "      <td>0</td>\n",
              "      <td>0.190903</td>\n",
              "    </tr>\n",
              "    <tr>\n",
              "      <th>4</th>\n",
              "      <td>It's more accurate to say you can run the same...</td>\n",
              "      <td>0</td>\n",
              "      <td>0.144272</td>\n",
              "    </tr>\n",
              "    <tr>\n",
              "      <th>...</th>\n",
              "      <td>...</td>\n",
              "      <td>...</td>\n",
              "      <td>...</td>\n",
              "    </tr>\n",
              "    <tr>\n",
              "      <th>88</th>\n",
              "      <td>Why do open source projects choose such terrib...</td>\n",
              "      <td>0</td>\n",
              "      <td>0.102888</td>\n",
              "    </tr>\n",
              "    <tr>\n",
              "      <th>89</th>\n",
              "      <td>This is going to sound petty (because it is). ...</td>\n",
              "      <td>1</td>\n",
              "      <td>0.540058</td>\n",
              "    </tr>\n",
              "    <tr>\n",
              "      <th>90</th>\n",
              "      <td>Looks interesting! The deployment is kinda wei...</td>\n",
              "      <td>0</td>\n",
              "      <td>0.091368</td>\n",
              "    </tr>\n",
              "    <tr>\n",
              "      <th>91</th>\n",
              "      <td>how does this compare to RocketChat?</td>\n",
              "      <td>0</td>\n",
              "      <td>0.119554</td>\n",
              "    </tr>\n",
              "    <tr>\n",
              "      <th>92</th>\n",
              "      <td>And here's the github [link](https://github.co...</td>\n",
              "      <td>0</td>\n",
              "      <td>0.067269</td>\n",
              "    </tr>\n",
              "  </tbody>\n",
              "</table>\n",
              "<p>93 rows × 3 columns</p>\n",
              "</div>"
            ],
            "text/plain": [
              "                                                 text  prediction     score\n",
              "0   It _can_ run on most phones, but requires a lo...           0  0.280605\n",
              "1   Two reasons. Most phones have locked boot load...           0  0.170371\n",
              "2   Most android devices run on downstream kernels...           0  0.249747\n",
              "3   Phone kernels are very far downstream from mai...           0  0.190903\n",
              "4   It's more accurate to say you can run the same...           0  0.144272\n",
              "..                                                ...         ...       ...\n",
              "88  Why do open source projects choose such terrib...           0  0.102888\n",
              "89  This is going to sound petty (because it is). ...           1  0.540058\n",
              "90  Looks interesting! The deployment is kinda wei...           0  0.091368\n",
              "91               how does this compare to RocketChat?           0  0.119554\n",
              "92  And here's the github [link](https://github.co...           0  0.067269\n",
              "\n",
              "[93 rows x 3 columns]"
            ]
          },
          "metadata": {},
          "execution_count": 69
        }
      ]
    }
  ]
}