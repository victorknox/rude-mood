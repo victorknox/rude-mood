{
  "nbformat": 4,
  "nbformat_minor": 0,
  "metadata": {
    "colab": {
      "name": "Rude_Mood.ipynb",
      "provenance": [],
      "authorship_tag": "ABX9TyMW7xShU+USZ/F+s+wPqTyf",
      "include_colab_link": true
    },
    "kernelspec": {
      "name": "python3",
      "display_name": "Python 3"
    },
    "language_info": {
      "name": "python"
    }
  },
  "cells": [
    {
      "cell_type": "markdown",
      "metadata": {
        "id": "view-in-github",
        "colab_type": "text"
      },
      "source": [
        "<a href=\"https://colab.research.google.com/github/victorknox/rude-mood/blob/main/Rude_Mood.ipynb\" target=\"_parent\"><img src=\"https://colab.research.google.com/assets/colab-badge.svg\" alt=\"Open In Colab\"/></a>"
      ]
    },
    {
      "cell_type": "markdown",
      "metadata": {
        "id": "noQl4E6QGWVi"
      },
      "source": [
        "# EDA"
      ]
    },
    {
      "cell_type": "markdown",
      "metadata": {
        "id": "QHosGkIMB--m"
      },
      "source": [
        "# Phase-1: Efficiency of the Politeness Classifier"
      ]
    },
    {
      "cell_type": "code",
      "metadata": {
        "colab": {
          "base_uri": "https://localhost:8080/",
          "height": 414
        },
        "id": "_dY7CXZi55u8",
        "outputId": "313144df-94a4-40e3-bc45-5a27bc40dade"
      },
      "source": [
        "import pandas as pd\n",
        "classifier_data = pd.read_csv('classified_comments.csv')\n",
        "print(classifier_data.head())"
      ],
      "execution_count": 1,
      "outputs": [
        {
          "output_type": "error",
          "ename": "FileNotFoundError",
          "evalue": "ignored",
          "traceback": [
            "\u001b[0;31m---------------------------------------------------------------------------\u001b[0m",
            "\u001b[0;31mFileNotFoundError\u001b[0m                         Traceback (most recent call last)",
            "\u001b[0;32m<ipython-input-1-09458ac6f62c>\u001b[0m in \u001b[0;36m<module>\u001b[0;34m()\u001b[0m\n\u001b[1;32m      1\u001b[0m \u001b[0;32mimport\u001b[0m \u001b[0mpandas\u001b[0m \u001b[0;32mas\u001b[0m \u001b[0mpd\u001b[0m\u001b[0;34m\u001b[0m\u001b[0;34m\u001b[0m\u001b[0m\n\u001b[0;32m----> 2\u001b[0;31m \u001b[0mclassifier_data\u001b[0m \u001b[0;34m=\u001b[0m \u001b[0mpd\u001b[0m\u001b[0;34m.\u001b[0m\u001b[0mread_csv\u001b[0m\u001b[0;34m(\u001b[0m\u001b[0;34m'classified_comments.csv'\u001b[0m\u001b[0;34m)\u001b[0m\u001b[0;34m\u001b[0m\u001b[0;34m\u001b[0m\u001b[0m\n\u001b[0m\u001b[1;32m      3\u001b[0m \u001b[0mprint\u001b[0m\u001b[0;34m(\u001b[0m\u001b[0mclassifier_data\u001b[0m\u001b[0;34m.\u001b[0m\u001b[0mhead\u001b[0m\u001b[0;34m(\u001b[0m\u001b[0;34m)\u001b[0m\u001b[0;34m)\u001b[0m\u001b[0;34m\u001b[0m\u001b[0;34m\u001b[0m\u001b[0m\n",
            "\u001b[0;32m/usr/local/lib/python3.7/dist-packages/pandas/io/parsers.py\u001b[0m in \u001b[0;36mread_csv\u001b[0;34m(filepath_or_buffer, sep, delimiter, header, names, index_col, usecols, squeeze, prefix, mangle_dupe_cols, dtype, engine, converters, true_values, false_values, skipinitialspace, skiprows, skipfooter, nrows, na_values, keep_default_na, na_filter, verbose, skip_blank_lines, parse_dates, infer_datetime_format, keep_date_col, date_parser, dayfirst, cache_dates, iterator, chunksize, compression, thousands, decimal, lineterminator, quotechar, quoting, doublequote, escapechar, comment, encoding, dialect, error_bad_lines, warn_bad_lines, delim_whitespace, low_memory, memory_map, float_precision)\u001b[0m\n\u001b[1;32m    686\u001b[0m     )\n\u001b[1;32m    687\u001b[0m \u001b[0;34m\u001b[0m\u001b[0m\n\u001b[0;32m--> 688\u001b[0;31m     \u001b[0;32mreturn\u001b[0m \u001b[0m_read\u001b[0m\u001b[0;34m(\u001b[0m\u001b[0mfilepath_or_buffer\u001b[0m\u001b[0;34m,\u001b[0m \u001b[0mkwds\u001b[0m\u001b[0;34m)\u001b[0m\u001b[0;34m\u001b[0m\u001b[0;34m\u001b[0m\u001b[0m\n\u001b[0m\u001b[1;32m    689\u001b[0m \u001b[0;34m\u001b[0m\u001b[0m\n\u001b[1;32m    690\u001b[0m \u001b[0;34m\u001b[0m\u001b[0m\n",
            "\u001b[0;32m/usr/local/lib/python3.7/dist-packages/pandas/io/parsers.py\u001b[0m in \u001b[0;36m_read\u001b[0;34m(filepath_or_buffer, kwds)\u001b[0m\n\u001b[1;32m    452\u001b[0m \u001b[0;34m\u001b[0m\u001b[0m\n\u001b[1;32m    453\u001b[0m     \u001b[0;31m# Create the parser.\u001b[0m\u001b[0;34m\u001b[0m\u001b[0;34m\u001b[0m\u001b[0;34m\u001b[0m\u001b[0m\n\u001b[0;32m--> 454\u001b[0;31m     \u001b[0mparser\u001b[0m \u001b[0;34m=\u001b[0m \u001b[0mTextFileReader\u001b[0m\u001b[0;34m(\u001b[0m\u001b[0mfp_or_buf\u001b[0m\u001b[0;34m,\u001b[0m \u001b[0;34m**\u001b[0m\u001b[0mkwds\u001b[0m\u001b[0;34m)\u001b[0m\u001b[0;34m\u001b[0m\u001b[0;34m\u001b[0m\u001b[0m\n\u001b[0m\u001b[1;32m    455\u001b[0m \u001b[0;34m\u001b[0m\u001b[0m\n\u001b[1;32m    456\u001b[0m     \u001b[0;32mif\u001b[0m \u001b[0mchunksize\u001b[0m \u001b[0;32mor\u001b[0m \u001b[0miterator\u001b[0m\u001b[0;34m:\u001b[0m\u001b[0;34m\u001b[0m\u001b[0;34m\u001b[0m\u001b[0m\n",
            "\u001b[0;32m/usr/local/lib/python3.7/dist-packages/pandas/io/parsers.py\u001b[0m in \u001b[0;36m__init__\u001b[0;34m(self, f, engine, **kwds)\u001b[0m\n\u001b[1;32m    946\u001b[0m             \u001b[0mself\u001b[0m\u001b[0;34m.\u001b[0m\u001b[0moptions\u001b[0m\u001b[0;34m[\u001b[0m\u001b[0;34m\"has_index_names\"\u001b[0m\u001b[0;34m]\u001b[0m \u001b[0;34m=\u001b[0m \u001b[0mkwds\u001b[0m\u001b[0;34m[\u001b[0m\u001b[0;34m\"has_index_names\"\u001b[0m\u001b[0;34m]\u001b[0m\u001b[0;34m\u001b[0m\u001b[0;34m\u001b[0m\u001b[0m\n\u001b[1;32m    947\u001b[0m \u001b[0;34m\u001b[0m\u001b[0m\n\u001b[0;32m--> 948\u001b[0;31m         \u001b[0mself\u001b[0m\u001b[0;34m.\u001b[0m\u001b[0m_make_engine\u001b[0m\u001b[0;34m(\u001b[0m\u001b[0mself\u001b[0m\u001b[0;34m.\u001b[0m\u001b[0mengine\u001b[0m\u001b[0;34m)\u001b[0m\u001b[0;34m\u001b[0m\u001b[0;34m\u001b[0m\u001b[0m\n\u001b[0m\u001b[1;32m    949\u001b[0m \u001b[0;34m\u001b[0m\u001b[0m\n\u001b[1;32m    950\u001b[0m     \u001b[0;32mdef\u001b[0m \u001b[0mclose\u001b[0m\u001b[0;34m(\u001b[0m\u001b[0mself\u001b[0m\u001b[0;34m)\u001b[0m\u001b[0;34m:\u001b[0m\u001b[0;34m\u001b[0m\u001b[0;34m\u001b[0m\u001b[0m\n",
            "\u001b[0;32m/usr/local/lib/python3.7/dist-packages/pandas/io/parsers.py\u001b[0m in \u001b[0;36m_make_engine\u001b[0;34m(self, engine)\u001b[0m\n\u001b[1;32m   1178\u001b[0m     \u001b[0;32mdef\u001b[0m \u001b[0m_make_engine\u001b[0m\u001b[0;34m(\u001b[0m\u001b[0mself\u001b[0m\u001b[0;34m,\u001b[0m \u001b[0mengine\u001b[0m\u001b[0;34m=\u001b[0m\u001b[0;34m\"c\"\u001b[0m\u001b[0;34m)\u001b[0m\u001b[0;34m:\u001b[0m\u001b[0;34m\u001b[0m\u001b[0;34m\u001b[0m\u001b[0m\n\u001b[1;32m   1179\u001b[0m         \u001b[0;32mif\u001b[0m \u001b[0mengine\u001b[0m \u001b[0;34m==\u001b[0m \u001b[0;34m\"c\"\u001b[0m\u001b[0;34m:\u001b[0m\u001b[0;34m\u001b[0m\u001b[0;34m\u001b[0m\u001b[0m\n\u001b[0;32m-> 1180\u001b[0;31m             \u001b[0mself\u001b[0m\u001b[0;34m.\u001b[0m\u001b[0m_engine\u001b[0m \u001b[0;34m=\u001b[0m \u001b[0mCParserWrapper\u001b[0m\u001b[0;34m(\u001b[0m\u001b[0mself\u001b[0m\u001b[0;34m.\u001b[0m\u001b[0mf\u001b[0m\u001b[0;34m,\u001b[0m \u001b[0;34m**\u001b[0m\u001b[0mself\u001b[0m\u001b[0;34m.\u001b[0m\u001b[0moptions\u001b[0m\u001b[0;34m)\u001b[0m\u001b[0;34m\u001b[0m\u001b[0;34m\u001b[0m\u001b[0m\n\u001b[0m\u001b[1;32m   1181\u001b[0m         \u001b[0;32melse\u001b[0m\u001b[0;34m:\u001b[0m\u001b[0;34m\u001b[0m\u001b[0;34m\u001b[0m\u001b[0m\n\u001b[1;32m   1182\u001b[0m             \u001b[0;32mif\u001b[0m \u001b[0mengine\u001b[0m \u001b[0;34m==\u001b[0m \u001b[0;34m\"python\"\u001b[0m\u001b[0;34m:\u001b[0m\u001b[0;34m\u001b[0m\u001b[0;34m\u001b[0m\u001b[0m\n",
            "\u001b[0;32m/usr/local/lib/python3.7/dist-packages/pandas/io/parsers.py\u001b[0m in \u001b[0;36m__init__\u001b[0;34m(self, src, **kwds)\u001b[0m\n\u001b[1;32m   2008\u001b[0m         \u001b[0mkwds\u001b[0m\u001b[0;34m[\u001b[0m\u001b[0;34m\"usecols\"\u001b[0m\u001b[0;34m]\u001b[0m \u001b[0;34m=\u001b[0m \u001b[0mself\u001b[0m\u001b[0;34m.\u001b[0m\u001b[0musecols\u001b[0m\u001b[0;34m\u001b[0m\u001b[0;34m\u001b[0m\u001b[0m\n\u001b[1;32m   2009\u001b[0m \u001b[0;34m\u001b[0m\u001b[0m\n\u001b[0;32m-> 2010\u001b[0;31m         \u001b[0mself\u001b[0m\u001b[0;34m.\u001b[0m\u001b[0m_reader\u001b[0m \u001b[0;34m=\u001b[0m \u001b[0mparsers\u001b[0m\u001b[0;34m.\u001b[0m\u001b[0mTextReader\u001b[0m\u001b[0;34m(\u001b[0m\u001b[0msrc\u001b[0m\u001b[0;34m,\u001b[0m \u001b[0;34m**\u001b[0m\u001b[0mkwds\u001b[0m\u001b[0;34m)\u001b[0m\u001b[0;34m\u001b[0m\u001b[0;34m\u001b[0m\u001b[0m\n\u001b[0m\u001b[1;32m   2011\u001b[0m         \u001b[0mself\u001b[0m\u001b[0;34m.\u001b[0m\u001b[0munnamed_cols\u001b[0m \u001b[0;34m=\u001b[0m \u001b[0mself\u001b[0m\u001b[0;34m.\u001b[0m\u001b[0m_reader\u001b[0m\u001b[0;34m.\u001b[0m\u001b[0munnamed_cols\u001b[0m\u001b[0;34m\u001b[0m\u001b[0;34m\u001b[0m\u001b[0m\n\u001b[1;32m   2012\u001b[0m \u001b[0;34m\u001b[0m\u001b[0m\n",
            "\u001b[0;32mpandas/_libs/parsers.pyx\u001b[0m in \u001b[0;36mpandas._libs.parsers.TextReader.__cinit__\u001b[0;34m()\u001b[0m\n",
            "\u001b[0;32mpandas/_libs/parsers.pyx\u001b[0m in \u001b[0;36mpandas._libs.parsers.TextReader._setup_parser_source\u001b[0;34m()\u001b[0m\n",
            "\u001b[0;31mFileNotFoundError\u001b[0m: [Errno 2] No such file or directory: 'classified_comments.csv'"
          ]
        }
      ]
    },
    {
      "cell_type": "code",
      "metadata": {
        "colab": {
          "base_uri": "https://localhost:8080/"
        },
        "id": "VU5QUilG8uYW",
        "outputId": "285cc1a3-5ac4-4d4d-98b4-e91f8ed473a3"
      },
      "source": [
        "annotated_data = pd.read_csv('annotated_comments.csv')\n",
        "print(annotated_data.head())"
      ],
      "execution_count": 12,
      "outputs": [
        {
          "output_type": "stream",
          "name": "stdout",
          "text": [
            "                                               title  ... politeness score\n",
            "0  If you want to run the Windows 11 build native...  ...              1.0\n",
            "1  If you want to run the Windows 11 build native...  ...              0.0\n",
            "2  If you want to run the Windows 11 build native...  ...              2.0\n",
            "3  If you want to run the Windows 11 build native...  ...              1.0\n",
            "4  If you want to run the Windows 11 build native...  ...             -1.0\n",
            "\n",
            "[5 rows x 6 columns]\n"
          ]
        }
      ]
    },
    {
      "cell_type": "code",
      "metadata": {
        "id": "Qrqnu24r1yV_"
      },
      "source": [
        "df = pd.read_csv('annotated_comments.csv')\n",
        "score = df['politeness score']\n",
        "x = ['-2','-1','0','1','2']\n",
        "y = [0,0,0,0,0]\n",
        "for i in score:\n",
        "  if(i >= -2 and i<= 2):\n",
        "    index=int(i)\n",
        "    y[index+2]=y[index+2]+1\n",
        "  \n",
        "# print(x)\n",
        "# print(y)\n",
        "import matplotlib.pyplot as plt\n",
        "plt.bar(x,y)"
      ],
      "execution_count": null,
      "outputs": []
    },
    {
      "cell_type": "code",
      "metadata": {
        "id": "XrjpieVx-81s"
      },
      "source": [
        "body1 = classifier_data[\"text\"]\n",
        "body2 = annotated_data[\"body\"]\n",
        "scores1 = classifier_data[\"prediction\"]\n",
        "scores2 = annotated_data[\"politeness score\"]"
      ],
      "execution_count": 13,
      "outputs": []
    },
    {
      "cell_type": "code",
      "metadata": {
        "colab": {
          "base_uri": "https://localhost:8080/"
        },
        "id": "hC3Z0UggA8Es",
        "outputId": "d6d62375-1d1e-41d8-c4a1-0ca6fa458746"
      },
      "source": [
        "print(len(body1), len(body2))"
      ],
      "execution_count": 14,
      "outputs": [
        {
          "output_type": "stream",
          "name": "stdout",
          "text": [
            "157 169\n"
          ]
        }
      ]
    },
    {
      "cell_type": "code",
      "metadata": {
        "colab": {
          "base_uri": "https://localhost:8080/"
        },
        "id": "mBcZS6b8Ao_J",
        "outputId": "b4cb54c7-b27b-4a9b-bab9-fea19fc140cf"
      },
      "source": [
        "count = 0\n",
        "correct = 0\n",
        "for i in range(len(body1)):\n",
        "  for j in range(len(body2)):\n",
        "    if(body1[i] == body2[j] and (scores1[i] - scores2[j]) > -10):\n",
        "      if(scores2[j] >= 0 and scores1[i] == 0):\n",
        "        correct += 1\n",
        "      elif(scores2[j] <= 0 and scores1[i] == 1):\n",
        "        correct += 1\n",
        "      count += 1\n",
        "\n",
        "print(correct, count)\n",
        "print(\"Accuracy = \", end =\" \" )\n",
        "print(correct/count)"
      ],
      "execution_count": 25,
      "outputs": [
        {
          "output_type": "stream",
          "name": "stdout",
          "text": [
            "132 158\n",
            "Accuracy =  0.8354430379746836\n"
          ]
        }
      ]
    },
    {
      "cell_type": "markdown",
      "metadata": {
        "id": "X_8OcdD1CDlX"
      },
      "source": [
        "# Phase-2: Politeness and Group Identity"
      ]
    },
    {
      "cell_type": "code",
      "metadata": {
        "colab": {
          "base_uri": "https://localhost:8080/"
        },
        "id": "M0cNyZ6HYbhQ",
        "outputId": "0f31cee8-05af-49e4-81f6-f80f8e6d9672"
      },
      "source": [
        "import pandas as pd\n",
        "win_data = pd.read_csv('win_results.csv')\n",
        "print(win_data.head())"
      ],
      "execution_count": 8,
      "outputs": [
        {
          "output_type": "stream",
          "name": "stdout",
          "text": [
            "                                                text  prediction     score\n",
            "0  If you're on AMD turn on FTPM in the bios on y...           0  0.331031\n",
            "1  Y'all just raw dogging a beta OS on your main ...           0  0.270393\n",
            "2  Be sure to check out our other subreddit /r/Wi...           0  0.217292\n",
            "3  You do not need TPM to clean install, but the ...           0  0.230732\n",
            "4  Well I'm screwed need a new Motherboard and CP...           0  0.322701\n"
          ]
        }
      ]
    },
    {
      "cell_type": "code",
      "metadata": {
        "colab": {
          "base_uri": "https://localhost:8080/"
        },
        "id": "t1ExJLbJYmwd",
        "outputId": "de3cda44-bedc-45ec-9d6b-af36e7974a83"
      },
      "source": [
        "lin_data = pd.read_csv('lin_results.csv')\n",
        "print(lin_data.head())"
      ],
      "execution_count": 9,
      "outputs": [
        {
          "output_type": "stream",
          "name": "stdout",
          "text": [
            "                                                text  prediction     score\n",
            "0  It _can_ run on most phones, but requires a lo...           0  0.280605\n",
            "1  Two reasons. Most phones have locked boot load...           0  0.170371\n",
            "2  Most android devices run on downstream kernels...           0  0.249747\n",
            "3  Phone kernels are very far downstream from mai...           0  0.190903\n",
            "4  It's more accurate to say you can run the same...           0  0.144272\n"
          ]
        }
      ]
    },
    {
      "cell_type": "code",
      "metadata": {
        "colab": {
          "base_uri": "https://localhost:8080/"
        },
        "id": "T3VtPsvwZPt-",
        "outputId": "465ea114-3d45-4328-daee-ba68ed2bb2dc"
      },
      "source": [
        "win_scores = win_data[\"prediction\"]\n",
        "lin_scores = lin_data[\"prediction\"]\n",
        "\n",
        "lin_polite = 0\n",
        "for i in lin_scores:\n",
        "  if i == 0:\n",
        "    lin_polite += 1\n",
        "\n",
        "win_polite = 0\n",
        "for i in win_scores:\n",
        "  if i == 0:\n",
        "    win_polite += 1\n",
        "\n",
        "print(\"Linux: \")\n",
        "print(\"Polite comments = \" + str(lin_polite))\n",
        "print(\"Impolite comments = \" + str(len(lin_scores) - lin_polite))\n",
        "print(\"Percentage of Polite comments =\" + str(lin_polite/(len(lin_scores))))\n",
        "print()\n",
        "print(\"Windows: \")\n",
        "print(\"Polite comments = \" + str(win_polite))\n",
        "print(\"Impolite comments = \" + str(len(win_scores) - win_polite))\n",
        "print(\"Percentage of Polite comments =\" + str(win_polite/(len(win_scores))))"
      ],
      "execution_count": 44,
      "outputs": [
        {
          "output_type": "stream",
          "name": "stdout",
          "text": [
            "Linux: \n",
            "Polite comments = 1413\n",
            "Impolite comments = 363\n",
            "Percentage of Polite comments =0.7956081081081081\n",
            "\n",
            "Windows: \n",
            "Polite comments = 1444\n",
            "Impolite comments = 332\n",
            "Percentage of Polite comments =0.8130630630630631\n"
          ]
        }
      ]
    },
    {
      "cell_type": "code",
      "metadata": {
        "colab": {
          "base_uri": "https://localhost:8080/",
          "height": 295
        },
        "id": "InzzCfulaUW0",
        "outputId": "3d1ac8f2-2bc1-4510-a3dd-7e370b571151"
      },
      "source": [
        "import matplotlib.pyplot as plt\n",
        " \n",
        "# x-coordinates of left sides of bars\n",
        "left = [1, 2]\n",
        " \n",
        "# heights of bars\n",
        "height = [lin_polite, len(lin_scores) - lin_polite]\n",
        " \n",
        "# labels for bars\n",
        "tick_label = ['Polite', 'Impolite']\n",
        " \n",
        "# plotting a bar chart\n",
        "plt.bar(left, height, tick_label = tick_label,\n",
        "        width = 0.8, color = ['red', 'green'])\n",
        " \n",
        "# naming the x-axis\n",
        "plt.xlabel('x - axis')\n",
        "# naming the y-axis\n",
        "plt.ylabel('y - axis')\n",
        "# plot title\n",
        "plt.title('Politeness in Linux Communities')\n",
        " \n",
        "# function to show the plot\n",
        "plt.show()"
      ],
      "execution_count": 36,
      "outputs": [
        {
          "output_type": "display_data",
          "data": {
            "image/png": "[encoded data removed]",
            "text/plain": [
              "<Figure size 432x288 with 1 Axes>"
            ]
          },
          "metadata": {
            "needs_background": "light"
          }
        }
      ]
    },
    {
      "cell_type": "code",
      "metadata": {
        "colab": {
          "base_uri": "https://localhost:8080/",
          "height": 295
        },
        "id": "rvxIVwide2DU",
        "outputId": "828c14ff-5b2d-468e-8ff5-53a0ad4eed81"
      },
      "source": [
        "import matplotlib.pyplot as plt\n",
        " \n",
        "# x-coordinates of left sides of bars\n",
        "left = [1, 2]\n",
        " \n",
        "# heights of bars\n",
        "height = [win_polite, len(win_scores) - win_polite]\n",
        " \n",
        "# labels for bars\n",
        "tick_label = ['Polite', 'Impolite']\n",
        " \n",
        "# plotting a bar chart\n",
        "plt.bar(left, height, tick_label = tick_label,\n",
        "        width = 0.8, color = ['red', 'green'])\n",
        " \n",
        "# naming the x-axis\n",
        "plt.xlabel('x - axis')\n",
        "# naming the y-axis\n",
        "plt.ylabel('y - axis')\n",
        "# plot title\n",
        "plt.title('Politeness in Windows Communities')\n",
        " \n",
        "# function to show the plot\n",
        "plt.show()"
      ],
      "execution_count": 37,
      "outputs": [
        {
          "output_type": "display_data",
          "data": {
            "image/png": "[encoded data removed]",
            "text/plain": [
              "<Figure size 432x288 with 1 Axes>"
            ]
          },
          "metadata": {
            "needs_background": "light"
          }
        }
      ]
    },
    {
      "cell_type": "markdown",
      "metadata": {
        "id": "D86KJ00zCFsF"
      },
      "source": [
        "# Phase-3: Politeness and Social Status"
      ]
    },
    {
      "cell_type": "markdown",
      "metadata": {
        "id": "RnDv7ra3WQe-"
      },
      "source": [
        "## Data collection"
      ]
    },
    {
      "cell_type": "code",
      "metadata": {
        "colab": {
          "base_uri": "https://localhost:8080/"
        },
        "id": "xAneOLHhlZfs",
        "outputId": "5bbcd529-2739-4f5e-b10a-84e21d9523ee"
      },
      "source": [
        "!pip install praw"
      ],
      "execution_count": 2,
      "outputs": [
        {
          "output_type": "stream",
          "name": "stdout",
          "text": [
            "Requirement already satisfied: praw in /usr/local/lib/python3.7/dist-packages (7.5.0)\n",
            "Requirement already satisfied: prawcore<3,>=2.1 in /usr/local/lib/python3.7/dist-packages (from praw) (2.3.0)\n",
            "Requirement already satisfied: websocket-client>=0.54.0 in /usr/local/lib/python3.7/dist-packages (from praw) (1.2.1)\n",
            "Requirement already satisfied: update-checker>=0.18 in /usr/local/lib/python3.7/dist-packages (from praw) (0.18.0)\n",
            "Requirement already satisfied: requests<3.0,>=2.6.0 in /usr/local/lib/python3.7/dist-packages (from prawcore<3,>=2.1->praw) (2.23.0)\n",
            "Requirement already satisfied: certifi>=2017.4.17 in /usr/local/lib/python3.7/dist-packages (from requests<3.0,>=2.6.0->prawcore<3,>=2.1->praw) (2021.10.8)\n",
            "Requirement already satisfied: idna<3,>=2.5 in /usr/local/lib/python3.7/dist-packages (from requests<3.0,>=2.6.0->prawcore<3,>=2.1->praw) (2.10)\n",
            "Requirement already satisfied: urllib3!=1.25.0,!=1.25.1,<1.26,>=1.21.1 in /usr/local/lib/python3.7/dist-packages (from requests<3.0,>=2.6.0->prawcore<3,>=2.1->praw) (1.24.3)\n",
            "Requirement already satisfied: chardet<4,>=3.0.2 in /usr/local/lib/python3.7/dist-packages (from requests<3.0,>=2.6.0->prawcore<3,>=2.1->praw) (3.0.4)\n"
          ]
        }
      ]
    },
    {
      "cell_type": "code",
      "metadata": {
        "colab": {
          "base_uri": "https://localhost:8080/"
        },
        "id": "8Ede0cPLOypu",
        "outputId": "64357e3f-ea57-4854-dd6d-6891d7d9c49c"
      },
      "source": [
        "import pandas as pd\n",
        "win_data = pd.read_csv('win_results.csv')\n",
        "print(win_data.head())\n",
        "lin_data = pd.read_csv('lin_results.csv')\n",
        "print(lin_data.head())"
      ],
      "execution_count": 3,
      "outputs": [
        {
          "output_type": "stream",
          "name": "stdout",
          "text": [
            "                                                text  prediction     score\n",
            "0  If you're on AMD turn on FTPM in the bios on y...           0  0.331031\n",
            "1  Y'all just raw dogging a beta OS on your main ...           0  0.270393\n",
            "2  Be sure to check out our other subreddit /r/Wi...           0  0.217292\n",
            "3  You do not need TPM to clean install, but the ...           0  0.230732\n",
            "4  Well I'm screwed need a new Motherboard and CP...           0  0.322701\n",
            "                                                text  prediction     score\n",
            "0  It _can_ run on most phones, but requires a lo...           0  0.280605\n",
            "1  Two reasons. Most phones have locked boot load...           0  0.170371\n",
            "2  Most android devices run on downstream kernels...           0  0.249747\n",
            "3  Phone kernels are very far downstream from mai...           0  0.190903\n",
            "4  It's more accurate to say you can run the same...           0  0.144272\n"
          ]
        }
      ]
    },
    {
      "cell_type": "code",
      "metadata": {
        "colab": {
          "base_uri": "https://localhost:8080/"
        },
        "id": "5aoHWw0qmpU6",
        "outputId": "44a4801c-0962-4a48-ec14-670bb9a0f30c"
      },
      "source": [
        "win_data2 = pd.read_csv('win_comments.csv')\n",
        "print(win_data2.head())\n",
        "lin_data2 = pd.read_csv('lin_comments.csv')\n",
        "print(lin_data2.head())"
      ],
      "execution_count": 4,
      "outputs": [
        {
          "output_type": "stream",
          "name": "stdout",
          "text": [
            "                                               title  ...                author\n",
            "0  If you want to run the Windows 11 build native...  ...             Donkerz85\n",
            "1  If you want to run the Windows 11 build native...  ...              Bleglord\n",
            "2  If you want to run the Windows 11 build native...  ...         AutoModerator\n",
            "3  If you want to run the Windows 11 build native...  ...  doggodoesaflipinabox\n",
            "4  If you want to run the Windows 11 build native...  ...            Gasrim4003\n",
            "\n",
            "[5 rows x 5 columns]\n",
            "                                               title  ... politeness score\n",
            "0  Why can Linux run on most desktops but not mos...  ...              NaN\n",
            "1  Why can Linux run on most desktops but not mos...  ...              NaN\n",
            "2  Why can Linux run on most desktops but not mos...  ...              NaN\n",
            "3  Why can Linux run on most desktops but not mos...  ...              NaN\n",
            "4  Why can Linux run on most desktops but not mos...  ...              NaN\n",
            "\n",
            "[5 rows x 6 columns]\n"
          ]
        }
      ]
    },
    {
      "cell_type": "code",
      "metadata": {
        "id": "svBkjlVhi9yG"
      },
      "source": [
        "# importing the module\n",
        "import praw\n",
        "reddit = praw.Reddit(client_id='zlMUUUA0MNikfTR-guoZPg', client_secret='vcgEzBynk1xZHyxaHdxDJ5v67M5_DQ', user_agent='scraper')\n",
        "\n",
        "win_comments = win_data[\"text\"]\n",
        "win_comments2 = win_data2[\"body\"]\n",
        "win_authors = win_data2[\"author\"]\n",
        "win_scores = win_data[\"prediction\"]\n",
        "\n",
        "lin_comments = lin_data[\"text\"]\n",
        "lin_comments2 = lin_data2[\"body\"]\n",
        "lin_authors = lin_data2[\"author\"]\n",
        "lin_scores = lin_data[\"prediction\"]\n"
      ],
      "execution_count": 6,
      "outputs": []
    },
    {
      "cell_type": "code",
      "metadata": {
        "id": "mKtpDgLmoQmQ"
      },
      "source": [
        "import csv\n",
        "  \n",
        "  \n",
        "# field names \n",
        "fields = ['Karma', 'score', 'author'] \n",
        "with open('win_karma', 'w') as f:\n",
        "          write = csv.writer(f)\n",
        "          write.writerow(fields)\n",
        "\n",
        "karma_list_win = []\n",
        "for i in range(len(win_comments)):\n",
        "  for j in range(i, len(win_comments2)):\n",
        "    if(win_comments[i] == win_comments2[j]):\n",
        "      try:\n",
        "        karma = reddit.redditor(win_authors[j]).link_karma\n",
        "        karma_list_win.append([karma, win_scores[i], win_authors[j]])\n",
        "        with open('win_karma', 'a') as f:\n",
        "          write = csv.writer(f)\n",
        "          write.writerow([karma, win_scores[i], win_authors[j]])\n",
        "      except:\n",
        "        continue\n",
        "\n",
        "print(len(karma_list_win), len(win_comments))"
      ],
      "execution_count": null,
      "outputs": []
    },
    {
      "cell_type": "code",
      "metadata": {
        "id": "87g1AM-ROQE4"
      },
      "source": [
        "import csv\n",
        "  \n",
        "  \n",
        "# field names \n",
        "fields = ['Karma', 'score', 'author'] \n",
        "with open('lin_karma.csv', 'w') as f:\n",
        "          write = csv.writer(f)\n",
        "          write.writerow(fields)\n",
        "\n",
        "karma_list_lin = []\n",
        "for i in range(len(lin_comments)):\n",
        "  for j in range(len(lin_comments2)):\n",
        "    if(lin_comments[i] == lin_comments2[j]):\n",
        "      try:\n",
        "        karma = reddit.redditor(lin_authors[j]).link_karma\n",
        "        karma_list_lin.append([karma, lin_scores[i], lin_authors[j]])\n",
        "        with open('lin_karma.csv', 'a') as f:\n",
        "          write = csv.writer(f)\n",
        "          write.writerow([karma, lin_scores[i], lin_authors[j]])\n",
        "      except:\n",
        "        continue\n",
        "\n",
        "print(len(karma_list_lin), len(lin_comments))"
      ],
      "execution_count": null,
      "outputs": []
    },
    {
      "cell_type": "markdown",
      "metadata": {
        "id": "miqW6Ea3WVGq"
      },
      "source": [
        "## Results"
      ]
    },
    {
      "cell_type": "markdown",
      "metadata": {
        "id": "Np7rFXqWXQ5d"
      },
      "source": [
        "### Karma Levels"
      ]
    },
    {
      "cell_type": "code",
      "metadata": {
        "colab": {
          "base_uri": "https://localhost:8080/"
        },
        "id": "fOpFNwjIWZ8t",
        "outputId": "6bf53c2b-eb16-43d8-efd6-9ededb239367"
      },
      "source": [
        "import pandas as pd\n",
        "win_karma = pd.read_csv('win_karma.csv')\n",
        "print(win_karma.head())\n",
        "lin_karma = pd.read_csv('lin_karma.csv')\n",
        "print(lin_karma.head())"
      ],
      "execution_count": 1,
      "outputs": [
        {
          "output_type": "stream",
          "name": "stdout",
          "text": [
            "   Karma  score                author\n",
            "0   6185    0.0             Donkerz85\n",
            "1    284    0.0              Bleglord\n",
            "2   1000    0.0         AutoModerator\n",
            "3   1161    0.0  doggodoesaflipinabox\n",
            "4   4634    0.0            Gasrim4003\n",
            "   Karma  score         author\n",
            "0   6514      0     PureTryOut\n",
            "1  38324      0     1_p_freely\n",
            "2    248      0  Worldly_Topic\n",
            "3   7306      0        Atemu12\n",
            "4   1411      0  BibianaAudris\n"
          ]
        }
      ]
    },
    {
      "cell_type": "code",
      "metadata": {
        "colab": {
          "base_uri": "https://localhost:8080/"
        },
        "id": "QbE0zCjKWcva",
        "outputId": "b41f8fbf-accf-43d3-88d2-4033ab734304"
      },
      "source": [
        "win_karma_score = win_karma[\"Karma\"]\n",
        "win_politeness_score = win_karma[\"score\"]\n",
        "lin_karma_score = lin_karma[\"Karma\"]\n",
        "lin_politeness_score = lin_karma[\"score\"]\n",
        "\n",
        "karma_score = [y for x in [win_karma_score, lin_karma_score] for y in x]\n",
        "\n",
        "politeness_score = [y for x in [win_politeness_score, lin_politeness_score] for y in x]\n",
        "\n",
        "\n",
        "print(len(karma_score), len(win_karma_score), len(lin_karma_score))"
      ],
      "execution_count": 2,
      "outputs": [
        {
          "output_type": "stream",
          "name": "stdout",
          "text": [
            "5860 2783 3077\n"
          ]
        }
      ]
    },
    {
      "cell_type": "code",
      "metadata": {
        "colab": {
          "base_uri": "https://localhost:8080/"
        },
        "id": "hNnaTZ1JWfL7",
        "outputId": "2141ebf9-963c-40a3-91b3-dd263f282752"
      },
      "source": [
        "# importing the module\n",
        "import collections\n",
        "from collections import OrderedDict\n",
        "\n",
        "# using Counter to find frequency of elements\n",
        "frequency = collections.Counter(lin_karma_score)\n",
        "lin_karma_levels = OrderedDict(sorted(frequency.items()))\n",
        "lin_karma_levels.pop(1)\n",
        "print(\"Linux:\" )\n",
        "print(dict(lin_karma_levels))\n",
        "frequency = collections.Counter(win_karma_score)\n",
        "win_karma_levels = OrderedDict(sorted(frequency.items()))\n",
        "win_karma_levels.pop(1)\n",
        "print(\"Windows:\" )\n",
        "print(dict(win_karma_levels))\n",
        "frequency = collections.Counter(karma_score)\n",
        "karma_levels = OrderedDict(sorted(frequency.items()))\n",
        "karma_levels.pop(1)\n",
        "print(\"Total\" )\n",
        "print(dict(karma_levels))"
      ],
      "execution_count": 3,
      "outputs": [
        {
          "output_type": "stream",
          "name": "stdout",
          "text": [
            "Linux:\n",
            "{2: 1, 3: 2, 4: 1, 5: 1, 7: 5, 8: 3, 9: 1, 11: 2, 13: 2, 16: 4, 18: 2, 19: 1, 20: 2, 21: 3, 24: 2, 26: 1, 33: 1, 36: 1, 40: 1, 42: 1, 43: 1, 49: 1, 51: 4, 54: 1, 58: 1, 60: 2, 61: 1, 64: 1, 66: 1, 70: 1, 75: 3, 80: 2, 81: 1, 83: 1, 88: 1, 93: 1, 95: 1, 97: 2, 117: 2, 123: 2, 134: 1, 141: 1, 144: 2, 151: 1, 168: 1, 176: 1, 184: 2, 196: 1, 200: 1, 207: 1, 214: 1, 218: 1, 222: 1, 225: 1, 242: 1, 248: 1, 265: 1, 279: 1, 286: 1, 292: 2, 294: 1, 296: 1, 305: 1, 310: 1, 317: 2, 320: 1, 324: 2, 332: 2, 356: 5, 360: 3, 364: 1, 375: 1, 380: 3, 381: 1, 406: 3, 412: 1, 414: 1, 418: 4, 436: 1, 445: 1, 448: 1, 461: 2, 469: 1, 505: 3, 545: 1, 555: 1, 560: 1, 595: 5, 604: 1, 606: 1, 660: 1, 675: 1, 684: 25, 685: 2, 698: 1, 731: 1, 734: 4, 760: 1, 776: 1, 793: 1, 796: 6, 797: 5, 803: 1, 871: 1, 890: 1, 905: 2, 912: 1, 915: 1, 931: 1, 962: 1, 970: 1, 1004: 1, 1044: 1, 1117: 2, 1137: 1, 1193: 1, 1233: 1, 1257: 2, 1280: 1, 1304: 1, 1382: 1, 1411: 3, 1413: 1, 1489: 1, 1497: 1, 1610: 1, 1622: 1, 1736: 1, 1787: 1, 1907: 1, 1967: 2, 2012: 1, 2053: 1, 2112: 1, 2128: 5, 2150: 1, 2226: 1, 2365: 1, 2461: 2, 2478: 1, 2533: 1, 2655: 1, 2661: 2, 2674: 1, 2699: 1, 2744: 1, 2794: 1, 2929: 1, 3054: 1, 3138: 1, 3234: 3, 3269: 10, 3287: 1, 3419: 1, 3435: 1, 3462: 1, 3596: 1, 3615: 1, 3795: 1, 3809: 3, 3854: 2, 3949: 1, 3958: 1, 4222: 1, 4350: 1, 4355: 1, 4516: 1, 4545: 1, 4734: 1, 4974: 1, 5118: 1, 5377: 1, 5529: 1, 5700: 1, 5723: 1, 5725: 1, 6270: 1, 6514: 4, 6686: 3, 6878: 1, 7306: 1, 7397: 1, 7901: 1, 7947: 1, 9101: 1, 9351: 1, 10097: 1, 10361: 1, 10398: 1, 10457: 3, 10495: 2, 10869: 3, 11572: 2, 11703: 2, 11908: 1, 13482: 2, 14517: 1, 16892: 11, 20073: 2, 20205: 1, 21328: 1, 21572: 1, 21626: 8, 22458: 1, 31529: 2, 35469: 1, 38324: 1, 44836: 1, 301077: 1, 590530: 1}\n",
            "Windows:\n",
            "{2: 4, 3: 3, 5: 16, 6: 4, 7: 6, 8: 1, 9: 5, 10: 1, 11: 1, 12: 1, 14: 5, 15: 3, 16: 5, 17: 1, 18: 2, 20: 4, 22: 2, 23: 2, 24: 2, 25: 1, 26: 10, 27: 3, 28: 3, 31: 3, 32: 2, 34: 13, 35: 1, 39: 1, 41: 6, 42: 1, 43: 1, 45: 1, 46: 2, 47: 1, 50: 19, 55: 2, 56: 1, 58: 5, 60: 2, 63: 2, 66: 4, 67: 1, 68: 1, 70: 1, 75: 2, 77: 1, 78: 2, 81: 1, 86: 1, 89: 1, 95: 1, 98: 1, 99: 1, 102: 3, 103: 1, 105: 1, 113: 1, 115: 1, 118: 10, 124: 1, 134: 1, 136: 1, 138: 2, 140: 2, 144: 2, 145: 1, 146: 1, 150: 4, 157: 1, 161: 1, 162: 11, 163: 1, 165: 1, 166: 1, 167: 1, 169: 1, 171: 1, 183: 3, 184: 1, 186: 2, 188: 1, 195: 1, 200: 2, 202: 1, 203: 1, 210: 1, 212: 2, 216: 1, 219: 3, 221: 4, 224: 1, 226: 1, 229: 4, 230: 1, 232: 3, 233: 1, 234: 2, 237: 8, 239: 1, 242: 1, 243: 1, 245: 1, 256: 7, 259: 3, 262: 1, 279: 2, 280: 5, 281: 3, 283: 1, 284: 1, 295: 1, 302: 1, 304: 8, 305: 5, 315: 6, 317: 1, 319: 18, 322: 3, 324: 3, 325: 1, 326: 1, 330: 1, 331: 1, 339: 3, 343: 1, 365: 1, 367: 1, 374: 1, 377: 1, 388: 1, 390: 1, 391: 3, 397: 1, 404: 2, 414: 4, 424: 1, 436: 1, 446: 1, 451: 2, 452: 1, 456: 1, 457: 2, 461: 8, 467: 1, 472: 2, 473: 1, 482: 6, 494: 1, 496: 3, 504: 1, 505: 1, 523: 1, 530: 1, 539: 1, 541: 2, 559: 1, 560: 1, 580: 1, 586: 1, 591: 1, 594: 1, 595: 1, 598: 3, 604: 1, 621: 2, 625: 1, 626: 2, 627: 1, 628: 1, 631: 1, 637: 2, 648: 1, 655: 3, 657: 1, 658: 2, 659: 1, 662: 1, 665: 2, 686: 1, 690: 8, 693: 1, 699: 1, 710: 1, 713: 1, 714: 1, 733: 4, 739: 2, 745: 1, 746: 3, 749: 1, 752: 3, 759: 1, 767: 1, 772: 1, 773: 1, 782: 4, 789: 1, 794: 1, 799: 6, 813: 1, 818: 1, 819: 2, 829: 5, 841: 1, 856: 10, 869: 2, 874: 1, 882: 2, 897: 1, 902: 2, 908: 1, 912: 1, 923: 1, 946: 2, 947: 1, 956: 1, 967: 1, 978: 1, 986: 4, 988: 1, 1000: 55, 1018: 2, 1034: 1, 1041: 1, 1043: 1, 1044: 1, 1053: 2, 1057: 1, 1061: 1, 1066: 1, 1069: 1, 1113: 1, 1118: 6, 1119: 1, 1122: 4, 1124: 4, 1134: 1, 1161: 3, 1176: 2, 1200: 1, 1204: 4, 1214: 1, 1246: 3, 1261: 1, 1269: 1, 1275: 1, 1306: 4, 1327: 5, 1345: 1, 1362: 1, 1364: 1, 1377: 1, 1393: 1, 1416: 1, 1422: 1, 1436: 1, 1439: 1, 1442: 1, 1464: 1, 1493: 1, 1512: 3, 1525: 2, 1527: 2, 1541: 4, 1570: 2, 1590: 2, 1599: 7, 1601: 1, 1616: 1, 1668: 4, 1672: 1, 1673: 4, 1702: 1, 1773: 1, 1808: 1, 1815: 1, 1852: 2, 1875: 4, 1885: 2, 1915: 1, 1922: 1, 1937: 1, 1945: 1, 1955: 1, 1961: 1, 1977: 1, 1981: 1, 2024: 1, 2051: 8, 2065: 1, 2085: 3, 2125: 3, 2133: 1, 2134: 1, 2140: 1, 2150: 1, 2183: 1, 2195: 2, 2205: 1, 2244: 1, 2255: 1, 2291: 1, 2301: 2, 2330: 1, 2458: 1, 2520: 1, 2541: 2, 2551: 1, 2566: 5, 2626: 1, 2642: 1, 2686: 1, 2747: 2, 2750: 1, 2839: 1, 2849: 1, 2859: 1, 2888: 1, 2947: 1, 2978: 2, 3020: 1, 3090: 2, 3180: 8, 3205: 1, 3234: 2, 3237: 1, 3244: 1, 3281: 2, 3335: 1, 3378: 1, 3405: 1, 3457: 1, 3501: 2, 3509: 2, 3554: 1, 3572: 1, 3694: 1, 3725: 1, 3730: 1, 3788: 1, 3806: 1, 3821: 1, 3844: 1, 3902: 1, 3958: 1, 4005: 1, 4012: 2, 4155: 11, 4160: 5, 4199: 1, 4223: 3, 4243: 4, 4366: 1, 4377: 3, 4433: 4, 4477: 1, 4553: 1, 4629: 1, 4630: 1, 4631: 1, 4634: 1, 4641: 1, 4694: 3, 4752: 8, 4777: 1, 4783: 5, 4814: 1, 4834: 2, 4859: 2, 4875: 3, 4939: 1, 4949: 1, 4952: 3, 4972: 3, 4984: 1, 5005: 1, 5016: 1, 5035: 6, 5049: 2, 5083: 1, 5121: 3, 5173: 1, 5211: 4, 5377: 6, 5488: 1, 5573: 1, 5638: 1, 5688: 1, 5748: 2, 5773: 1, 5802: 1, 5830: 3, 5847: 1, 5919: 3, 5974: 1, 6038: 1, 6045: 1, 6096: 1, 6130: 11, 6161: 1, 6176: 3, 6185: 1, 6200: 1, 6375: 1, 6390: 1, 6409: 5, 6411: 4, 6421: 3, 6578: 1, 6613: 1, 6625: 3, 6668: 2, 6760: 1, 6784: 1, 6794: 1, 6922: 5, 7034: 3, 7074: 1, 7147: 3, 7188: 2, 7359: 1, 7364: 4, 7419: 1, 7523: 4, 7716: 1, 7803: 2, 7932: 3, 8004: 5, 8383: 1, 8470: 2, 8586: 2, 8675: 1, 8735: 1, 8870: 1, 8917: 1, 8953: 1, 9031: 4, 9081: 1, 9390: 1, 9453: 1, 9476: 1, 9545: 3, 9793: 1, 9852: 1, 10217: 1, 10313: 1, 10493: 1, 10505: 1, 10526: 5, 10564: 1, 10579: 1, 10628: 1, 10699: 1, 10708: 1, 10864: 5, 10912: 1, 10916: 4, 10924: 3, 11099: 1, 11160: 4, 11306: 1, 11498: 1, 11622: 1, 11649: 2, 11690: 1, 11893: 1, 11953: 1, 12169: 2, 12811: 1, 12840: 1, 12842: 1, 13469: 3, 13575: 2, 13635: 1, 13752: 1, 13978: 5, 14044: 1, 14156: 5, 14374: 1, 14455: 7, 14501: 1, 15131: 1, 15494: 1, 15697: 1, 16131: 1, 16418: 1, 16597: 1, 16681: 1, 16953: 1, 17086: 1, 17465: 2, 17592: 4, 17697: 14, 17736: 1, 17738: 4, 18085: 1, 18161: 1, 18256: 1, 18699: 1, 18795: 3, 19852: 1, 20418: 1, 20487: 1, 20491: 1, 20935: 1, 21436: 1, 22068: 1, 22263: 1, 22312: 1, 22635: 1, 22923: 10, 22989: 1, 23192: 2, 23584: 2, 23904: 3, 24071: 1, 25167: 4, 25696: 1, 26275: 1, 27458: 3, 28456: 1, 29756: 1, 30118: 12, 30255: 5, 30493: 1, 30743: 3, 31166: 2, 31596: 1, 33600: 2, 33711: 1, 37674: 1, 38950: 2, 45200: 5, 48578: 1, 50118: 1, 51803: 1, 53801: 2, 54277: 2, 57538: 1, 59836: 3, 61570: 4, 72642: 2, 77354: 1, 79832: 1, 107794: 1, 132695: 1, 172961: 1, 210016: 1, 345686: 9, 1509366: 1, 1556427: 1}\n",
            "Total\n",
            "{2: 5, 3: 5, 4: 1, 5: 17, 6: 4, 7: 11, 8: 4, 9: 6, 10: 1, 11: 3, 12: 1, 13: 2, 14: 5, 15: 3, 16: 9, 17: 1, 18: 4, 19: 1, 20: 6, 21: 3, 22: 2, 23: 2, 24: 4, 25: 1, 26: 11, 27: 3, 28: 3, 31: 3, 32: 2, 33: 1, 34: 13, 35: 1, 36: 1, 39: 1, 40: 1, 41: 6, 42: 2, 43: 2, 45: 1, 46: 2, 47: 1, 49: 1, 50: 19, 51: 4, 54: 1, 55: 2, 56: 1, 58: 6, 60: 4, 61: 1, 63: 2, 64: 1, 66: 5, 67: 1, 68: 1, 70: 2, 75: 5, 77: 1, 78: 2, 80: 2, 81: 2, 83: 1, 86: 1, 88: 1, 89: 1, 93: 1, 95: 2, 97: 2, 98: 1, 99: 1, 102: 3, 103: 1, 105: 1, 113: 1, 115: 1, 117: 2, 118: 10, 123: 2, 124: 1, 134: 2, 136: 1, 138: 2, 140: 2, 141: 1, 144: 4, 145: 1, 146: 1, 150: 4, 151: 1, 157: 1, 161: 1, 162: 11, 163: 1, 165: 1, 166: 1, 167: 1, 168: 1, 169: 1, 171: 1, 176: 1, 183: 3, 184: 3, 186: 2, 188: 1, 195: 1, 196: 1, 200: 3, 202: 1, 203: 1, 207: 1, 210: 1, 212: 2, 214: 1, 216: 1, 218: 1, 219: 3, 221: 4, 222: 1, 224: 1, 225: 1, 226: 1, 229: 4, 230: 1, 232: 3, 233: 1, 234: 2, 237: 8, 239: 1, 242: 2, 243: 1, 245: 1, 248: 1, 256: 7, 259: 3, 262: 1, 265: 1, 279: 3, 280: 5, 281: 3, 283: 1, 284: 1, 286: 1, 292: 2, 294: 1, 295: 1, 296: 1, 302: 1, 304: 8, 305: 6, 310: 1, 315: 6, 317: 3, 319: 18, 320: 1, 322: 3, 324: 5, 325: 1, 326: 1, 330: 1, 331: 1, 332: 2, 339: 3, 343: 1, 356: 5, 360: 3, 364: 1, 365: 1, 367: 1, 374: 1, 375: 1, 377: 1, 380: 3, 381: 1, 388: 1, 390: 1, 391: 3, 397: 1, 404: 2, 406: 3, 412: 1, 414: 5, 418: 4, 424: 1, 436: 2, 445: 1, 446: 1, 448: 1, 451: 2, 452: 1, 456: 1, 457: 2, 461: 10, 467: 1, 469: 1, 472: 2, 473: 1, 482: 6, 494: 1, 496: 3, 504: 1, 505: 4, 523: 1, 530: 1, 539: 1, 541: 2, 545: 1, 555: 1, 559: 1, 560: 2, 580: 1, 586: 1, 591: 1, 594: 1, 595: 6, 598: 3, 604: 2, 606: 1, 621: 2, 625: 1, 626: 2, 627: 1, 628: 1, 631: 1, 637: 2, 648: 1, 655: 3, 657: 1, 658: 2, 659: 1, 660: 1, 662: 1, 665: 2, 675: 1, 684: 25, 685: 2, 686: 1, 690: 8, 693: 1, 698: 1, 699: 1, 710: 1, 713: 1, 714: 1, 731: 1, 733: 4, 734: 4, 739: 2, 745: 1, 746: 3, 749: 1, 752: 3, 759: 1, 760: 1, 767: 1, 772: 1, 773: 1, 776: 1, 782: 4, 789: 1, 793: 1, 794: 1, 796: 6, 797: 5, 799: 6, 803: 1, 813: 1, 818: 1, 819: 2, 829: 5, 841: 1, 856: 10, 869: 2, 871: 1, 874: 1, 882: 2, 890: 1, 897: 1, 902: 2, 905: 2, 908: 1, 912: 2, 915: 1, 923: 1, 931: 1, 946: 2, 947: 1, 956: 1, 962: 1, 967: 1, 970: 1, 978: 1, 986: 4, 988: 1, 1000: 55, 1004: 1, 1018: 2, 1034: 1, 1041: 1, 1043: 1, 1044: 2, 1053: 2, 1057: 1, 1061: 1, 1066: 1, 1069: 1, 1113: 1, 1117: 2, 1118: 6, 1119: 1, 1122: 4, 1124: 4, 1134: 1, 1137: 1, 1161: 3, 1176: 2, 1193: 1, 1200: 1, 1204: 4, 1214: 1, 1233: 1, 1246: 3, 1257: 2, 1261: 1, 1269: 1, 1275: 1, 1280: 1, 1304: 1, 1306: 4, 1327: 5, 1345: 1, 1362: 1, 1364: 1, 1377: 1, 1382: 1, 1393: 1, 1411: 3, 1413: 1, 1416: 1, 1422: 1, 1436: 1, 1439: 1, 1442: 1, 1464: 1, 1489: 1, 1493: 1, 1497: 1, 1512: 3, 1525: 2, 1527: 2, 1541: 4, 1570: 2, 1590: 2, 1599: 7, 1601: 1, 1610: 1, 1616: 1, 1622: 1, 1668: 4, 1672: 1, 1673: 4, 1702: 1, 1736: 1, 1773: 1, 1787: 1, 1808: 1, 1815: 1, 1852: 2, 1875: 4, 1885: 2, 1907: 1, 1915: 1, 1922: 1, 1937: 1, 1945: 1, 1955: 1, 1961: 1, 1967: 2, 1977: 1, 1981: 1, 2012: 1, 2024: 1, 2051: 8, 2053: 1, 2065: 1, 2085: 3, 2112: 1, 2125: 3, 2128: 5, 2133: 1, 2134: 1, 2140: 1, 2150: 2, 2183: 1, 2195: 2, 2205: 1, 2226: 1, 2244: 1, 2255: 1, 2291: 1, 2301: 2, 2330: 1, 2365: 1, 2458: 1, 2461: 2, 2478: 1, 2520: 1, 2533: 1, 2541: 2, 2551: 1, 2566: 5, 2626: 1, 2642: 1, 2655: 1, 2661: 2, 2674: 1, 2686: 1, 2699: 1, 2744: 1, 2747: 2, 2750: 1, 2794: 1, 2839: 1, 2849: 1, 2859: 1, 2888: 1, 2929: 1, 2947: 1, 2978: 2, 3020: 1, 3054: 1, 3090: 2, 3138: 1, 3180: 8, 3205: 1, 3234: 5, 3237: 1, 3244: 1, 3269: 10, 3281: 2, 3287: 1, 3335: 1, 3378: 1, 3405: 1, 3419: 1, 3435: 1, 3457: 1, 3462: 1, 3501: 2, 3509: 2, 3554: 1, 3572: 1, 3596: 1, 3615: 1, 3694: 1, 3725: 1, 3730: 1, 3788: 1, 3795: 1, 3806: 1, 3809: 3, 3821: 1, 3844: 1, 3854: 2, 3902: 1, 3949: 1, 3958: 2, 4005: 1, 4012: 2, 4155: 11, 4160: 5, 4199: 1, 4222: 1, 4223: 3, 4243: 4, 4350: 1, 4355: 1, 4366: 1, 4377: 3, 4433: 4, 4477: 1, 4516: 1, 4545: 1, 4553: 1, 4629: 1, 4630: 1, 4631: 1, 4634: 1, 4641: 1, 4694: 3, 4734: 1, 4752: 8, 4777: 1, 4783: 5, 4814: 1, 4834: 2, 4859: 2, 4875: 3, 4939: 1, 4949: 1, 4952: 3, 4972: 3, 4974: 1, 4984: 1, 5005: 1, 5016: 1, 5035: 6, 5049: 2, 5083: 1, 5118: 1, 5121: 3, 5173: 1, 5211: 4, 5377: 7, 5488: 1, 5529: 1, 5573: 1, 5638: 1, 5688: 1, 5700: 1, 5723: 1, 5725: 1, 5748: 2, 5773: 1, 5802: 1, 5830: 3, 5847: 1, 5919: 3, 5974: 1, 6038: 1, 6045: 1, 6096: 1, 6130: 11, 6161: 1, 6176: 3, 6185: 1, 6200: 1, 6270: 1, 6375: 1, 6390: 1, 6409: 5, 6411: 4, 6421: 3, 6514: 4, 6578: 1, 6613: 1, 6625: 3, 6668: 2, 6686: 3, 6760: 1, 6784: 1, 6794: 1, 6878: 1, 6922: 5, 7034: 3, 7074: 1, 7147: 3, 7188: 2, 7306: 1, 7359: 1, 7364: 4, 7397: 1, 7419: 1, 7523: 4, 7716: 1, 7803: 2, 7901: 1, 7932: 3, 7947: 1, 8004: 5, 8383: 1, 8470: 2, 8586: 2, 8675: 1, 8735: 1, 8870: 1, 8917: 1, 8953: 1, 9031: 4, 9081: 1, 9101: 1, 9351: 1, 9390: 1, 9453: 1, 9476: 1, 9545: 3, 9793: 1, 9852: 1, 10097: 1, 10217: 1, 10313: 1, 10361: 1, 10398: 1, 10457: 3, 10493: 1, 10495: 2, 10505: 1, 10526: 5, 10564: 1, 10579: 1, 10628: 1, 10699: 1, 10708: 1, 10864: 5, 10869: 3, 10912: 1, 10916: 4, 10924: 3, 11099: 1, 11160: 4, 11306: 1, 11498: 1, 11572: 2, 11622: 1, 11649: 2, 11690: 1, 11703: 2, 11893: 1, 11908: 1, 11953: 1, 12169: 2, 12811: 1, 12840: 1, 12842: 1, 13469: 3, 13482: 2, 13575: 2, 13635: 1, 13752: 1, 13978: 5, 14044: 1, 14156: 5, 14374: 1, 14455: 7, 14501: 1, 14517: 1, 15131: 1, 15494: 1, 15697: 1, 16131: 1, 16418: 1, 16597: 1, 16681: 1, 16892: 11, 16953: 1, 17086: 1, 17465: 2, 17592: 4, 17697: 14, 17736: 1, 17738: 4, 18085: 1, 18161: 1, 18256: 1, 18699: 1, 18795: 3, 19852: 1, 20073: 2, 20205: 1, 20418: 1, 20487: 1, 20491: 1, 20935: 1, 21328: 1, 21436: 1, 21572: 1, 21626: 8, 22068: 1, 22263: 1, 22312: 1, 22458: 1, 22635: 1, 22923: 10, 22989: 1, 23192: 2, 23584: 2, 23904: 3, 24071: 1, 25167: 4, 25696: 1, 26275: 1, 27458: 3, 28456: 1, 29756: 1, 30118: 12, 30255: 5, 30493: 1, 30743: 3, 31166: 2, 31529: 2, 31596: 1, 33600: 2, 33711: 1, 35469: 1, 37674: 1, 38324: 1, 38950: 2, 44836: 1, 45200: 5, 48578: 1, 50118: 1, 51803: 1, 53801: 2, 54277: 2, 57538: 1, 59836: 3, 61570: 4, 72642: 2, 77354: 1, 79832: 1, 107794: 1, 132695: 1, 172961: 1, 210016: 1, 301077: 1, 345686: 9, 590530: 1, 1509366: 1, 1556427: 1}\n"
          ]
        }
      ]
    },
    {
      "cell_type": "code",
      "metadata": {
        "colab": {
          "base_uri": "https://localhost:8080/",
          "height": 295
        },
        "id": "ahRTP_AaWhLr",
        "outputId": "d5d1528f-f871-45e3-95c0-470967d36a98"
      },
      "source": [
        "# importing the required module\n",
        "import matplotlib.pyplot as plt\n",
        " \n",
        "# x axis values\n",
        "x = range(len(win_karma_levels))\n",
        "# corresponding y axis values\n",
        "y = list(win_karma_levels.values())\n",
        "\n",
        "\n",
        "plt.plot(x, y)\n",
        "# naming the x axis\n",
        "plt.xlabel('x - axis')\n",
        "# naming the y axis\n",
        "plt.ylabel('y - axis')\n",
        " \n",
        "# giving a title to my graph\n",
        "plt.title('Karma levels of Windows users')\n",
        " \n",
        "\n",
        "# function to show the plot\n",
        "plt.show()"
      ],
      "execution_count": 4,
      "outputs": [
        {
          "output_type": "display_data",
          "data": {
            "image/png": "[encoded data removed]",
            "text/plain": [
              "<Figure size 432x288 with 1 Axes>"
            ]
          },
          "metadata": {
            "needs_background": "light"
          }
        }
      ]
    },
    {
      "cell_type": "code",
      "metadata": {
        "colab": {
          "base_uri": "https://localhost:8080/",
          "height": 295
        },
        "id": "K67dICLmWvMr",
        "outputId": "d8cbfe82-46ce-4d21-e2cc-8573e82207b8"
      },
      "source": [
        "# importing the required module\n",
        "import matplotlib.pyplot as plt\n",
        " \n",
        "# x axis values\n",
        "x = range(len(lin_karma_levels))\n",
        "# corresponding y axis values\n",
        "y = list(lin_karma_levels.values())\n",
        "\n",
        "\n",
        "plt.plot(x, y)\n",
        "# naming the x axis\n",
        "plt.xlabel('x - axis')\n",
        "# naming the y axis\n",
        "plt.ylabel('y - axis')\n",
        " \n",
        "# giving a title to my graph\n",
        "plt.title('Karma levels of Linux users')\n",
        " \n",
        "\n",
        "# function to show the plot\n",
        "plt.show()"
      ],
      "execution_count": 5,
      "outputs": [
        {
          "output_type": "display_data",
          "data": {
            "image/png": "[encoded data removed]",
            "text/plain": [
              "<Figure size 432x288 with 1 Axes>"
            ]
          },
          "metadata": {
            "needs_background": "light"
          }
        }
      ]
    },
    {
      "cell_type": "code",
      "metadata": {
        "colab": {
          "base_uri": "https://localhost:8080/",
          "height": 295
        },
        "id": "LshTA2VRX38t",
        "outputId": "9e907bf2-e58b-401c-904d-5eda571ef364"
      },
      "source": [
        "# importing the required module\n",
        "import matplotlib.pyplot as plt\n",
        " \n",
        "# x axis values\n",
        "x = range(len(karma_levels))\n",
        "# corresponding y axis values\n",
        "y = list(karma_levels.values())\n",
        "\n",
        "\n",
        "plt.plot(x, y)\n",
        "# naming the x axis\n",
        "plt.xlabel('x - axis')\n",
        "# naming the y axis\n",
        "plt.ylabel('y - axis')\n",
        " \n",
        "# giving a title to my graph\n",
        "plt.title('Karma levels of all users')\n",
        " \n",
        "\n",
        "# function to show the plot\n",
        "plt.show()"
      ],
      "execution_count": 6,
      "outputs": [
        {
          "output_type": "display_data",
          "data": {
            "image/png": "[encoded data removed]",
            "text/plain": [
              "<Figure size 432x288 with 1 Axes>"
            ]
          },
          "metadata": {
            "needs_background": "light"
          }
        }
      ]
    },
    {
      "cell_type": "markdown",
      "metadata": {
        "id": "1sjuIOAHXTwa"
      },
      "source": [
        "### Politeness and Reputation"
      ]
    },
    {
      "cell_type": "markdown",
      "metadata": {
        "id": "R_I6DKHcBSwP"
      },
      "source": [
        "##### function to divide counts"
      ]
    },
    {
      "cell_type": "code",
      "metadata": {
        "id": "4uK0RmZHBQjP"
      },
      "source": [
        "def get_points(d):\n",
        "  y = list(d.keys())\n",
        "  x = list(d.values())\n",
        "  count = 0\n",
        "  for i in x:\n",
        "    count += i\n",
        "  count = int(count/3)\n",
        "  print(count*3)\n",
        "  count2 = 0\n",
        "  for i in range(len(x)):\n",
        "    if(count2 < count and count2 + x[i] >= count):\n",
        "        print(y[i+1])\n",
        "    if(count2 < count*2 and count2 + x[i] >= count*2):\n",
        "        print(y[i+1])\n",
        "    if(count2 < count*3 and count2 + x[i] >= count*3):\n",
        "        print(y[i])\n",
        "    count2 += x[i]\n",
        "  "
      ],
      "execution_count": 11,
      "outputs": []
    },
    {
      "cell_type": "code",
      "metadata": {
        "colab": {
          "base_uri": "https://localhost:8080/"
        },
        "id": "Lp7JWRC2Blaf",
        "outputId": "41a616cb-9120-4e19-cc65-5e80e9f9cbec"
      },
      "source": [
        "get_points(win_karma_levels)"
      ],
      "execution_count": 8,
      "outputs": [
        {
          "output_type": "stream",
          "name": "stdout",
          "text": [
            "1218\n",
            "604\n",
            "4477\n",
            "1509366\n"
          ]
        }
      ]
    },
    {
      "cell_type": "code",
      "metadata": {
        "colab": {
          "base_uri": "https://localhost:8080/"
        },
        "id": "MPdATfXSBni9",
        "outputId": "efcc884b-4bc9-4553-883d-33348db45ebf"
      },
      "source": [
        "get_points(lin_karma_levels)"
      ],
      "execution_count": 9,
      "outputs": [
        {
          "output_type": "stream",
          "name": "stdout",
          "text": [
            "357\n",
            "414\n",
            "2461\n",
            "590530\n"
          ]
        }
      ]
    },
    {
      "cell_type": "code",
      "metadata": {
        "colab": {
          "base_uri": "https://localhost:8080/"
        },
        "id": "wblxlCbfBn9U",
        "outputId": "9ee9d67f-a37e-46fa-87f5-051fbd5eb80c"
      },
      "source": [
        "get_points(karma_levels)"
      ],
      "execution_count": 12,
      "outputs": [
        {
          "output_type": "stream",
          "name": "stdout",
          "text": [
            "1578\n",
            "539\n",
            "3854\n",
            "1556427\n"
          ]
        }
      ]
    },
    {
      "cell_type": "markdown",
      "metadata": {
        "id": "EwhtcIouBYFd"
      },
      "source": [
        "#### results"
      ]
    },
    {
      "cell_type": "code",
      "metadata": {
        "colab": {
          "base_uri": "https://localhost:8080/"
        },
        "id": "eKPI08S-XiMx",
        "outputId": "28af2993-2a47-49dc-aa9a-618dd271a0c3"
      },
      "source": [
        "win_score = [0, 0, 0]\n",
        "win_count = [0, 0, 0]\n",
        "for i in range(len(win_karma_score)):\n",
        "  if (win_karma_score[i] >= 2 and win_karma_score[i] <= 604):\n",
        "    win_count[0] += 1\n",
        "    if (win_politeness_score[i] == 0):\n",
        "      win_score[0] += 1\n",
        "  if (win_karma_score[i] >= 604 and win_karma_score[i] <= 4477):\n",
        "    win_count[1] += 1\n",
        "    if (win_politeness_score[i] == 0):\n",
        "      win_score[1] += 1\n",
        "  if (win_karma_score[i] >= 4477 and win_karma_score[i] <= 1509366):\n",
        "    win_count[2] += 1\n",
        "    if (win_politeness_score[i] == 0):\n",
        "      win_score[2] += 1\n",
        "\n",
        "print(\"Windows:\")\n",
        "print(\"Low rep =\" + str(win_score[0]/win_count[0]))\n",
        "print(\"Middle rep =\" + str(win_score[1]/win_count[1]))\n",
        "print(\"High rep =\" + str(win_score[2]/win_count[2]))"
      ],
      "execution_count": 13,
      "outputs": [
        {
          "output_type": "stream",
          "name": "stdout",
          "text": [
            "Windows:\n",
            "Low rep =0.7886977886977887\n",
            "Middle rep =0.6992665036674817\n",
            "High rep =0.8246913580246914\n"
          ]
        }
      ]
    },
    {
      "cell_type": "code",
      "metadata": {
        "colab": {
          "base_uri": "https://localhost:8080/"
        },
        "id": "0goKkkeBb6Bs",
        "outputId": "bd4268d2-a4b8-4ea9-8b50-c7905c5e42bd"
      },
      "source": [
        "lin_score = [0, 0, 0]\n",
        "lin_count = [0, 0, 0]\n",
        "for i in range(len(lin_karma_score)):\n",
        "  if (lin_karma_score[i] >= 2 and lin_karma_score[i] <= 414):\n",
        "    lin_count[0] += 1\n",
        "    if (lin_politeness_score[i] == 0):\n",
        "      lin_score[0] += 1\n",
        "  if (lin_karma_score[i] >= 414 and lin_karma_score[i] <= 2461):\n",
        "    lin_count[1] += 1\n",
        "    if (lin_politeness_score[i] == 0):\n",
        "      lin_score[1] += 1\n",
        "  if (lin_karma_score[i] >= 2461 and lin_karma_score[i] <= 590530):\n",
        "    lin_count[2] += 1\n",
        "    if (lin_politeness_score[i] == 0):\n",
        "      lin_score[2] += 1\n",
        "\n",
        "print(\"Linux:\")\n",
        "print(\"Low rep =\" + str(lin_score[0]/lin_count[0]))\n",
        "print(\"Middle rep =\" + str(lin_score[1]/lin_count[1]))\n",
        "print(\"High rep =\" + str(lin_score[2]/lin_count[2]))"
      ],
      "execution_count": 15,
      "outputs": [
        {
          "output_type": "stream",
          "name": "stdout",
          "text": [
            "Linux:\n",
            "Low rep =0.8083333333333333\n",
            "Middle rep =0.6611570247933884\n",
            "High rep =0.75\n"
          ]
        }
      ]
    },
    {
      "cell_type": "code",
      "metadata": {
        "colab": {
          "base_uri": "https://localhost:8080/"
        },
        "id": "qVT7eX8vb7__",
        "outputId": "9d8bb6ab-3b53-4674-f72f-d94c6113d28f"
      },
      "source": [
        "score = [0, 0, 0]\n",
        "count = [0, 0, 0]\n",
        "for i in range(len(karma_score)):\n",
        "  if (karma_score[i] >= 2 and karma_score[i] <= 539):\n",
        "    count[0] += 1\n",
        "    if (politeness_score[i] == 0):\n",
        "      score[0] += 1\n",
        "  if (karma_score[i] >= 539 and karma_score[i] <= 3854):\n",
        "    count[1] += 1\n",
        "    if (politeness_score[i] == 0):\n",
        "      score[1] += 1\n",
        "  if (karma_score[i] >= 3854 and karma_score[i] <= 1556427):\n",
        "    count[2] += 1\n",
        "    if (politeness_score[i] == 0):\n",
        "      score[2] += 1\n",
        "\n",
        "print(\"Overall:\")\n",
        "print(\"Low rep =\" + str(score[0]/count[0]))\n",
        "print(\"Middle rep =\" + str(score[1]/count[1]))\n",
        "print(\"High rep =\" + str(score[2]/count[2]))"
      ],
      "execution_count": 16,
      "outputs": [
        {
          "output_type": "stream",
          "name": "stdout",
          "text": [
            "Overall:\n",
            "Low rep =0.7912713472485768\n",
            "Middle rep =0.696969696969697\n",
            "High rep =0.8041825095057035\n"
          ]
        }
      ]
    }
  ]
}